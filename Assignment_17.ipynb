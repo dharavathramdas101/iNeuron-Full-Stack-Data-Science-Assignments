{
 "cells": [
  {
   "cell_type": "markdown",
   "id": "6202f67a",
   "metadata": {},
   "source": [
    "# Assignment_17"
   ]
  },
  {
   "cell_type": "markdown",
   "id": "a8112ca7",
   "metadata": {},
   "source": [
    "Q1. Assign the value 7 to the variable guess_me. Then, write the conditional tests (if, else, and elif) to print the string 'too low' if guess_me is less than 7, 'too high' if greater than 7, and 'just right' if equal to 7."
   ]
  },
  {
   "cell_type": "code",
   "execution_count": 1,
   "id": "5e152d90",
   "metadata": {},
   "outputs": [
    {
     "name": "stdout",
     "output_type": "stream",
     "text": [
      "justright\n"
     ]
    }
   ],
   "source": [
    "#Ans:-\n",
    "guess_me = 7\n",
    "if guess_me < 7:\n",
    "    print(\"too low\")\n",
    "elif guess_me > 7:\n",
    "    print(\"too high\")\n",
    "else:\n",
    "    print(\"justright\")"
   ]
  },
  {
   "cell_type": "markdown",
   "id": "592051cf",
   "metadata": {},
   "source": [
    "Q2. Assign the value 7 to the variable guess_me and the value 1 to the variable start. Write a while loop that compares start with guess_me. Print too low if start is less than guess me. If start equals guess_me, print 'found it!' and exit the loop. If start is greater than guess_me, print 'oops' and exit the loop. Increment start at the end of the loop"
   ]
  },
  {
   "cell_type": "code",
   "execution_count": 2,
   "id": "2ba834fb",
   "metadata": {},
   "outputs": [
    {
     "name": "stdout",
     "output_type": "stream",
     "text": [
      "too low\n",
      "too low\n",
      "too low\n",
      "too low\n",
      "too low\n",
      "too low\n",
      "found it!\n"
     ]
    }
   ],
   "source": [
    "#Ans:-\n",
    "guesss_me = 7\n",
    "start = 1\n",
    "while True:\n",
    "    if start < guess_me:\n",
    "        print(\"too low\")\n",
    "    elif start == guess_me:\n",
    "        print(\"found it!\")\n",
    "        break\n",
    "    else:\n",
    "        print(\"oops\")\n",
    "        break\n",
    "    start += 1\n",
    "    "
   ]
  },
  {
   "cell_type": "markdown",
   "id": "2276192a",
   "metadata": {},
   "source": [
    "Q3. Print the following values of the list [3, 2, 1, 0] using a for loop."
   ]
  },
  {
   "cell_type": "code",
   "execution_count": 4,
   "id": "a874f597",
   "metadata": {},
   "outputs": [
    {
     "name": "stdout",
     "output_type": "stream",
     "text": [
      "3\n",
      "2\n",
      "1\n",
      "0\n"
     ]
    }
   ],
   "source": [
    "#Ans:-\n",
    "list = [3,2,1,0]\n",
    "for ele in list:\n",
    "    print(ele)"
   ]
  },
  {
   "cell_type": "markdown",
   "id": "df873ff7",
   "metadata": {},
   "source": [
    "Q4. Use a list comprehension to make a list of the even numbers in range(10)"
   ]
  },
  {
   "cell_type": "code",
   "execution_count": 6,
   "id": "96bb08db",
   "metadata": {},
   "outputs": [
    {
     "name": "stdout",
     "output_type": "stream",
     "text": [
      "[0, 2, 4, 6, 8, 10]\n"
     ]
    }
   ],
   "source": [
    "#Ans:-\n",
    "print([i for i in range(10+1) if i%2==0])"
   ]
  },
  {
   "cell_type": "markdown",
   "id": "116e6aa4",
   "metadata": {},
   "source": [
    "Q5. Use a dictionary comprehension to create the dictionary squares. Use range(10) to return the keys, and use the square of each key as its value."
   ]
  },
  {
   "cell_type": "code",
   "execution_count": 13,
   "id": "fc5732ae",
   "metadata": {},
   "outputs": [
    {
     "data": {
      "text/plain": [
       "{0: 0, 1: 1, 2: 4, 3: 9, 4: 16, 5: 25, 6: 36, 7: 49, 8: 64, 9: 81, 10: 100}"
      ]
     },
     "execution_count": 13,
     "metadata": {},
     "output_type": "execute_result"
    }
   ],
   "source": [
    "#Ans:-\n",
    "dict([(i,i**2) for i in range(10+1)])"
   ]
  },
  {
   "cell_type": "code",
   "execution_count": 14,
   "id": "2f18aebf",
   "metadata": {},
   "outputs": [
    {
     "name": "stdout",
     "output_type": "stream",
     "text": [
      "{0: 0, 1: 1, 2: 4, 3: 9, 4: 16, 5: 25, 6: 36, 7: 49, 8: 64, 9: 81}\n"
     ]
    }
   ],
   "source": [
    "print({i:i**2 for i in range(10)})"
   ]
  },
  {
   "cell_type": "markdown",
   "id": "b5efac56",
   "metadata": {},
   "source": [
    "Q6. Construct the set odd from the odd numbers in the range using a set comprehension (10)."
   ]
  },
  {
   "cell_type": "code",
   "execution_count": 17,
   "id": "97f04071",
   "metadata": {},
   "outputs": [
    {
     "name": "stdout",
     "output_type": "stream",
     "text": [
      "{1, 3, 5, 7, 9}\n"
     ]
    }
   ],
   "source": [
    "#Ans:-\n",
    "print({j for j in range(10+1) if j%2!=0})"
   ]
  },
  {
   "cell_type": "markdown",
   "id": "28ef894f",
   "metadata": {},
   "source": [
    "Q7. Use a generator comprehension to return the string 'Got ' and a number for the numbers in range(10). Iterate through this by using a for loop"
   ]
  },
  {
   "cell_type": "code",
   "execution_count": 19,
   "id": "cc56ee84",
   "metadata": {},
   "outputs": [
    {
     "name": "stdout",
     "output_type": "stream",
     "text": [
      "Got_0 Got_1 Got_2 Got_3 Got_4 Got_5 Got_6 Got_7 Got_8 Got_9 "
     ]
    }
   ],
   "source": [
    "#Ans:-\n",
    "gen_com = ('Got_'+str(i) for i in range(10))\n",
    "for ele in gen_com:\n",
    "    print(ele,end = \" \")"
   ]
  },
  {
   "cell_type": "markdown",
   "id": "c3391204",
   "metadata": {},
   "source": [
    "Q8. Define a function called good that returns the list ['Harry', 'Ron', 'Hermione']."
   ]
  },
  {
   "cell_type": "code",
   "execution_count": 20,
   "id": "cab177bf",
   "metadata": {},
   "outputs": [
    {
     "name": "stdout",
     "output_type": "stream",
     "text": [
      "['Harry', 'Ron', 'Hermione']\n"
     ]
    }
   ],
   "source": [
    "#Ans:-\n",
    "def good():\n",
    "    y =['Harry','Ron','Hermione']\n",
    "    return y\n",
    "print(good())"
   ]
  },
  {
   "cell_type": "markdown",
   "id": "f69e9f9d",
   "metadata": {},
   "source": [
    "Q9. Define a generator function called get_odds that returns the odd numbers from range(10). Use a for loop to find and print the third value returned."
   ]
  },
  {
   "cell_type": "code",
   "execution_count": 30,
   "id": "69f7405c",
   "metadata": {},
   "outputs": [
    {
     "data": {
      "text/plain": [
       "5"
      ]
     },
     "execution_count": 30,
     "metadata": {},
     "output_type": "execute_result"
    }
   ],
   "source": [
    "#Ans:-\n",
    "def get_odds():\n",
    "    l=[]\n",
    "    for i in range(10+1):\n",
    "        if i%2 != 0:\n",
    "            l.append(i)\n",
    "    yield l\n",
    "next(get_odds())[2]"
   ]
  },
  {
   "cell_type": "markdown",
   "id": "36fe62d9",
   "metadata": {},
   "source": [
    "Q10. Define an exception called OopsException. Raise this exception to see what happens. Then write the code to catch this exception and print 'Caught an oops'."
   ]
  },
  {
   "cell_type": "code",
   "execution_count": 32,
   "id": "c045bc3f",
   "metadata": {},
   "outputs": [
    {
     "name": "stdout",
     "output_type": "stream",
     "text": [
      "Caught in Oops name 'a' is not defined\n"
     ]
    }
   ],
   "source": [
    "#Ans:-\n",
    "class OopsException(Exception):\n",
    "    pass\n",
    "def test(input):\n",
    "    if  input <0:\n",
    "        raise OopsException(a)\n",
    "try:\n",
    "    test(-100)\n",
    "except Exception as e:\n",
    "    print('Caught in Oops',e)"
   ]
  },
  {
   "cell_type": "markdown",
   "id": "f3e2b339",
   "metadata": {},
   "source": [
    "Q11. Use zip() to make a dictionary called movies that pairs these lists: titles = ['Creature of Habit', 'Crewel Fate'] and plots = ['A nun turns into a monster', 'A haunted yarn shop']."
   ]
  },
  {
   "cell_type": "code",
   "execution_count": 33,
   "id": "7beef5bc",
   "metadata": {},
   "outputs": [
    {
     "name": "stdout",
     "output_type": "stream",
     "text": [
      "{'Creature of Habit': 'A nun turns into a monster', 'Crewel Fate': 'A haunted yarn shop'}\n"
     ]
    }
   ],
   "source": [
    "#Ans:-\n",
    "titles = ['Creature of Habit', 'Crewel Fate']\n",
    "plots = ['A nun turns into a monster', 'A haunted yarn shop']\n",
    "print(dict(zip(titles,plots)))"
   ]
  }
 ],
 "metadata": {
  "kernelspec": {
   "display_name": "Python 3 (ipykernel)",
   "language": "python",
   "name": "python3"
  },
  "language_info": {
   "codemirror_mode": {
    "name": "ipython",
    "version": 3
   },
   "file_extension": ".py",
   "mimetype": "text/x-python",
   "name": "python",
   "nbconvert_exporter": "python",
   "pygments_lexer": "ipython3",
   "version": "3.9.7"
  }
 },
 "nbformat": 4,
 "nbformat_minor": 5
}
