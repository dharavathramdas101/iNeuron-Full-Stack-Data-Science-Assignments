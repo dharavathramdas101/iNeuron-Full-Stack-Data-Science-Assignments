{
 "cells": [
  {
   "cell_type": "markdown",
   "id": "6d67bb9e",
   "metadata": {},
   "source": [
    "# iNeuron Assignment_24"
   ]
  },
  {
   "cell_type": "markdown",
   "id": "4b098f88",
   "metadata": {},
   "source": [
    "### Q1. What is the relationship between def statements and lambda expressions ?"
   ]
  },
  {
   "cell_type": "markdown",
   "id": "1d55aaa7",
   "metadata": {},
   "source": [
    "ANs:- \n",
    "    def statement used to create a normal function.where as lambda expression are used to create Anonymous function. which can be assigned to a variable and can be called using the variable later in function\n",
    "    lambda body is a single expression and not a block of statements like def statement. the lambda expression body is similar to what we'd put in a def body's return statement.we simply type the result as an expression instead of explicitly returning it . because it is limited to an expression, a lambda is less general than a def statement"
   ]
  },
  {
   "cell_type": "markdown",
   "id": "47e0682c",
   "metadata": {},
   "source": [
    "### Q2. What is the benefit of lambda?"
   ]
  },
  {
   "cell_type": "markdown",
   "id": "9c5ab332",
   "metadata": {},
   "source": [
    "Ans:-\n",
    "    1.can be used to create nameless/anonymous function inside some complex functions if we are planning to use it only once\n",
    "    2. moderate to small function can be created in a single line\n",
    "    3.function created using lambda expression can bea assigned to a variable and can be used by simply calling the variable"
   ]
  },
  {
   "cell_type": "markdown",
   "id": "7ec046aa",
   "metadata": {},
   "source": [
    "### Q3. Compare and contrast map, filter, and reduce.?"
   ]
  },
  {
   "cell_type": "markdown",
   "id": "866689d3",
   "metadata": {},
   "source": [
    "Ans:\n",
    "    1.map():the map() function is a type of higher-order.this function takes another function as a parameter, along with a sequence of iterable and return an output after applying the functionto each iterable present in the sequence\n",
    "    2. filter():the filter() function is used to create an output list consisting of values for which the function return true\n",
    "    3.reduce(): the reduce function as the name describes, applies a given function to the iterable and return a single value"
   ]
  },
  {
   "cell_type": "code",
   "execution_count": 1,
   "id": "0edf5a53",
   "metadata": {},
   "outputs": [
    {
     "name": "stdout",
     "output_type": "stream",
     "text": [
      "Map -> [2, 4, 6, 8]\n",
      "Filter -> [1, 3]\n",
      "Reduce -> 21\n"
     ]
    }
   ],
   "source": [
    "from functools import reduce\n",
    "# map function\n",
    "print('Map ->',list(map(lambda x:x+x, [1,2,3,4])))\n",
    "# fitler function\n",
    "print('Filter ->',list(filter(lambda x:x%2 !=0, [1,2,3,4])))\n",
    "# reduce function\n",
    "print('Reduce ->',reduce(lambda x,y:x+y, [1,2,3,4,5,6]))"
   ]
  },
  {
   "cell_type": "markdown",
   "id": "769ad4c8",
   "metadata": {},
   "source": [
    "### Q4. What are function annotations, and how are they used?"
   ]
  },
  {
   "cell_type": "markdown",
   "id": "8da0ee85",
   "metadata": {},
   "source": [
    "Ans:\n",
    "    function annotations provide a way of associating various part of a function with arbitary python expressions at compile time\n",
    "    annotations of simple parameters def func(x:expression,y: expression=20):\n",
    "        whereas the annotations for excess parameters are as def func (**args:expression,**kwargs:expression):"
   ]
  },
  {
   "cell_type": "markdown",
   "id": "34f3f430",
   "metadata": {},
   "source": [
    "### Q5. What are recursive functions, and how are they used?"
   ]
  },
  {
   "cell_type": "markdown",
   "id": "3851c964",
   "metadata": {},
   "source": [
    "Ans: A recursive function is a function that calls itself during its execution. the process may repeat several times, outputting the result and the end of each iteration"
   ]
  },
  {
   "cell_type": "markdown",
   "id": "dc9fc2b3",
   "metadata": {},
   "source": [
    "### Q6. What are some general design guidelines for coding functions?"
   ]
  },
  {
   "cell_type": "markdown",
   "id": "7c1a61b3",
   "metadata": {},
   "source": [
    "Ans:\n",
    "    1.Always use a docstring to explain the functionality of the function\n",
    "    2.avoid using or limited use of global variables\n",
    "    3.Proper Identation to increase the code readability\n",
    "    4.try to follow a naming convention for function names (pascalCase or camelCase) and stick with the same convention throughout the application.\n",
    "    5.Avoid using digits while choosing a variable name\n",
    "    6.try to use a name for the function which conveys the purpose of the function\n",
    "    7.Local variables should be named using camelCase format (ex: localVariable) whereas Global variables names should be using PascalCase (ex:GlobalVariable).\n",
    "    8.Constant should be represented in allcaps (ex:CONSTANT)."
   ]
  },
  {
   "cell_type": "markdown",
   "id": "42330214",
   "metadata": {},
   "source": [
    "### Q7. Name three or more ways that functions can communicate results to a caller."
   ]
  },
  {
   "cell_type": "markdown",
   "id": "85984e13",
   "metadata": {},
   "source": [
    "Ans:\n",
    "    1.print\n",
    "    2.return\n",
    "    3.yield"
   ]
  }
 ],
 "metadata": {
  "kernelspec": {
   "display_name": "Python 3 (ipykernel)",
   "language": "python",
   "name": "python3"
  },
  "language_info": {
   "codemirror_mode": {
    "name": "ipython",
    "version": 3
   },
   "file_extension": ".py",
   "mimetype": "text/x-python",
   "name": "python",
   "nbconvert_exporter": "python",
   "pygments_lexer": "ipython3",
   "version": "3.9.7"
  }
 },
 "nbformat": 4,
 "nbformat_minor": 5
}
