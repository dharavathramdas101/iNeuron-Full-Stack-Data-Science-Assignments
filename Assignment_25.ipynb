{
 "cells": [
  {
   "cell_type": "markdown",
   "id": "e6755008",
   "metadata": {},
   "source": [
    "# iNeuron Python Assignment_25"
   ]
  },
  {
   "cell_type": "markdown",
   "id": "5ad0dec1",
   "metadata": {},
   "source": [
    "### Q1) . What is the difference between enclosing a list comprehension in square brackets and parentheses?"
   ]
  },
  {
   "cell_type": "markdown",
   "id": "7cffe872",
   "metadata": {},
   "source": [
    "Ans:\n",
    "    enclosing a list comprehension in square brackets return a list, but where as enclosing a list comprehension in parentheses return a generator object"
   ]
  },
  {
   "cell_type": "code",
   "execution_count": 2,
   "id": "6f8cdbe0",
   "metadata": {},
   "outputs": [
    {
     "name": "stdout",
     "output_type": "stream",
     "text": [
      "[0, 1, 2, 3, 4, 5, 6, 7, 8, 9]\n",
      "<generator object <genexpr> at 0x000002232DDA5EB0>\n"
     ]
    }
   ],
   "source": [
    "l =[i for i in range(10)]\n",
    "print(l)\n",
    "g = (i for i in range(10))\n",
    "print(g)"
   ]
  },
  {
   "cell_type": "markdown",
   "id": "41635e97",
   "metadata": {},
   "source": [
    "### Q2) What is the relationship between generators and iterators?"
   ]
  },
  {
   "cell_type": "markdown",
   "id": "87d272e3",
   "metadata": {},
   "source": [
    "Iterators are the objects that use the next() method to get the next value of the sequence. A generator is a function that produces or yields a sequence of values using a yield statement. Classes are used to Implement the iterators. Functions are used to implement the generator."
   ]
  },
  {
   "cell_type": "code",
   "execution_count": 3,
   "id": "60e6ece1",
   "metadata": {},
   "outputs": [
    {
     "name": "stdout",
     "output_type": "stream",
     "text": [
      "<class 'list_iterator'>\n",
      "iNeuron\n",
      "Full\n",
      "Stack\n",
      "Data Science\n",
      "<list_iterator object at 0x000002232DDBB340>\n",
      "0\n",
      "1\n",
      "8\n",
      "27\n",
      "64\n"
     ]
    }
   ],
   "source": [
    "# Example of iterartor\n",
    "iter_str = iter(['iNeuron','Full','Stack','Data Science'])\n",
    "print(type(iter_str))\n",
    "print(next(iter_str))\n",
    "print(next(iter_str))\n",
    "print(next(iter_str))\n",
    "print(next(iter_str))\n",
    "print(iter_str) # After the iterable object is completed, to use them again we have reassign them to the same object.\n",
    "\n",
    "# Example of Generator\n",
    "def cube_numbers(in_num):\n",
    "    for ele in range(in_num+1):\n",
    "        yield ele**3\n",
    "\n",
    "out_num = cube_numbers(4)\n",
    "print(next(out_num))\n",
    "print(next(out_num))\n",
    "print(next(out_num))\n",
    "print(next(out_num))\n",
    "print(next(out_num))"
   ]
  },
  {
   "cell_type": "markdown",
   "id": "2af01ff6",
   "metadata": {},
   "source": [
    "### Q3) What are the signs that a function is a generator function?"
   ]
  },
  {
   "cell_type": "markdown",
   "id": "85262715",
   "metadata": {},
   "source": [
    "Ans:\n",
    "    If a function contains at least one yield statement (it may contain other yield or return statements), it becomes a generator function. Both yield and return will return some value from a function."
   ]
  },
  {
   "cell_type": "markdown",
   "id": "aea5338d",
   "metadata": {},
   "source": [
    "### Q4) What is the purpose of a yield statement?"
   ]
  },
  {
   "cell_type": "markdown",
   "id": "9caca22b",
   "metadata": {},
   "source": [
    "Ans:\n",
    "    The yield statement suspends function's execution and sends a value back to the caller, but retains enough state to enable function to resume where it is left off. When resumed, the function continues execution immediately after the last yield run."
   ]
  },
  {
   "cell_type": "markdown",
   "id": "1fde0438",
   "metadata": {},
   "source": [
    "### Q5) What is the relationship between map calls and list comprehensions? Make a comparison and contrast between the two ?"
   ]
  },
  {
   "cell_type": "markdown",
   "id": "db799ed5",
   "metadata": {},
   "source": [
    "List comprehension returns a list, whereas the map function returns an object of Iterable. List comprehension execution is faster than that of map function when the formula expression is huge and complex. Map function is faster than list comprehension when the formula is already defined as a function earlier."
   ]
  },
  {
   "cell_type": "code",
   "execution_count": 7,
   "id": "9d47d49d",
   "metadata": {},
   "outputs": [
    {
     "name": "stdout",
     "output_type": "stream",
     "text": [
      "[0, 1, 2, 3, 4, 5, 6, 7, 8, 9]\n",
      "0.610580900000059\n"
     ]
    }
   ],
   "source": [
    "import timeit \n",
    "# list comprehension \n",
    "l1 = timeit.timeit( '[ l for l in range(50)]' , number = 999999) \n",
    "print (l)  \n",
    "#map function \n",
    "f='def num( ) : print (n)' \n",
    "m1 = timeit.timeit('map(num, range(50))' , number = 999999, setup = f )  \n",
    "print (m1) "
   ]
  },
  {
   "cell_type": "code",
   "execution_count": null,
   "id": "7a030081",
   "metadata": {},
   "outputs": [],
   "source": []
  }
 ],
 "metadata": {
  "kernelspec": {
   "display_name": "Python 3 (ipykernel)",
   "language": "python",
   "name": "python3"
  },
  "language_info": {
   "codemirror_mode": {
    "name": "ipython",
    "version": 3
   },
   "file_extension": ".py",
   "mimetype": "text/x-python",
   "name": "python",
   "nbconvert_exporter": "python",
   "pygments_lexer": "ipython3",
   "version": "3.9.7"
  }
 },
 "nbformat": 4,
 "nbformat_minor": 5
}
