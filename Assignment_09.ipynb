{
 "cells": [
  {
   "cell_type": "markdown",
   "id": "20934015",
   "metadata": {},
   "source": [
    "# Assignment_09"
   ]
  },
  {
   "cell_type": "markdown",
   "id": "adde5560",
   "metadata": {},
   "source": [
    "Q 1.To what does a relative path refer ?"
   ]
  },
  {
   "cell_type": "code",
   "execution_count": null,
   "id": "bc9859cc",
   "metadata": {},
   "outputs": [],
   "source": [
    "# Ans:-\n",
    "a relative path refers to a location that is relative to a current directory."
   ]
  },
  {
   "cell_type": "markdown",
   "id": "7dc235ee",
   "metadata": {},
   "source": [
    "Q 2.Where does an absolute path start with your Operating System ?"
   ]
  },
  {
   "cell_type": "code",
   "execution_count": null,
   "id": "9c1a4780",
   "metadata": {},
   "outputs": [],
   "source": [
    "#Ans:-\n",
    "in windows based system absolute path starts with C: \n",
    "IN Linux based system absolute path start with /"
   ]
  },
  {
   "cell_type": "markdown",
   "id": "87af751c",
   "metadata": {},
   "source": [
    "Q 3.What does the functions os.getcwd() and os.chdir() do ?"
   ]
  },
  {
   "cell_type": "code",
   "execution_count": null,
   "id": "21cf9aa7",
   "metadata": {},
   "outputs": [],
   "source": [
    "#Ans:-\n",
    "os.getcwd() used to know the current working directory of the file \n",
    "os.chdir()  we used to change the current worling directory to specifed path.it takes only single arguments as new directory path\n"
   ]
  },
  {
   "cell_type": "code",
   "execution_count": 1,
   "id": "e519cf29",
   "metadata": {},
   "outputs": [
    {
     "data": {
      "text/plain": [
       "'C:\\\\Users\\\\DHARAVATH RAMDAS'"
      ]
     },
     "execution_count": 1,
     "metadata": {},
     "output_type": "execute_result"
    }
   ],
   "source": [
    "import os          # current directory\n",
    "os.getcwd()"
   ]
  },
  {
   "cell_type": "code",
   "execution_count": 4,
   "id": "23dbfc7a",
   "metadata": {},
   "outputs": [],
   "source": [
    "os.chdir(r'C:\\\\users\\\\Dharavath Ramdas')   # changing directory"
   ]
  },
  {
   "cell_type": "code",
   "execution_count": 5,
   "id": "f7de3c51",
   "metadata": {},
   "outputs": [
    {
     "data": {
      "text/plain": [
       "'C:\\\\users\\\\Dharavath Ramdas'"
      ]
     },
     "execution_count": 5,
     "metadata": {},
     "output_type": "execute_result"
    }
   ],
   "source": [
    "os.getcwd()"
   ]
  },
  {
   "cell_type": "markdown",
   "id": "432e0be9",
   "metadata": {},
   "source": [
    "Q 4.What are . and .. folders ?"
   ]
  },
  {
   "cell_type": "code",
   "execution_count": null,
   "id": "c0313350",
   "metadata": {},
   "outputs": [],
   "source": [
    "#Ans:-\n",
    "a dot(.) represents the current directory \n",
    "a double dot(..) represents the parent directory of current directory\n"
   ]
  },
  {
   "cell_type": "markdown",
   "id": "7195fde4",
   "metadata": {},
   "source": [
    "Q 5.In C:\\bacon\\eggs\\spam.txt which part is the dir name and which part is the base name ?"
   ]
  },
  {
   "cell_type": "code",
   "execution_count": 10,
   "id": "27c800a8",
   "metadata": {},
   "outputs": [
    {
     "name": "stdout",
     "output_type": "stream",
     "text": [
      "c:\\bacon\\eggs\n",
      "spam.txt\n"
     ]
    }
   ],
   "source": [
    "path = r'c:\\bacon\\eggs\\spam.txt'\n",
    "print(os.path.dirname(path))\n",
    "print(os.path.basename(path))"
   ]
  },
  {
   "cell_type": "markdown",
   "id": "8060f32e",
   "metadata": {},
   "source": [
    "Q 6.What are the three mode arguments that can be passed to the open() function ?"
   ]
  },
  {
   "cell_type": "code",
   "execution_count": null,
   "id": "48be18b6",
   "metadata": {},
   "outputs": [],
   "source": [
    "#Ans:-\n",
    "A file can be accessed in python using open() function. open function takes two arguments filename and mode of operation .if mode of operation is not provided the default operation is read\n",
    "\n",
    "syntax is : open(filename,mode)\n",
    "\n",
    "'r'--> read mode ,this is default mode for open(). the file is opened and pointer is at the begining of file \n",
    "'w' --> write mode , this mode is used to create a file if file does not exist ,using this mode will overwrite any existing content\n",
    "'a' --> append mode, this method to user can be append data with out overwriting the data\n",
    "'x' --> create mode , this mode is used to create the files, use this mode if you know the file to be written doesnot exist before\n",
    "'r+' --> read/write mode, use this mode if you need to simultaneously read and write to a file\n",
    "'a+' --> append and read mode, in this mode is for the sole purpose of creating new files .use this mode if you "
   ]
  },
  {
   "cell_type": "code",
   "execution_count": null,
   "id": "2fc2284d",
   "metadata": {},
   "outputs": [],
   "source": [
    "Q 7.What happens if an existing file is opened in write mode ?"
   ]
  },
  {
   "cell_type": "code",
   "execution_count": null,
   "id": "13d76d22",
   "metadata": {},
   "outputs": [],
   "source": [
    "#Ans:-\n",
    "we using this mode will overwrite the any existiong contents in a file .if any file is not exist then new file will be created"
   ]
  },
  {
   "cell_type": "code",
   "execution_count": null,
   "id": "29a11014",
   "metadata": {},
   "outputs": [],
   "source": [
    "Q 8.How do you tell the difference between read() and readlines() ?"
   ]
  },
  {
   "cell_type": "code",
   "execution_count": null,
   "id": "2f4e9142",
   "metadata": {},
   "outputs": [],
   "source": [
    "#Ans:-\n",
    "read() will read the whole file at once and then print out the first characters that takes up as many bytes as we specify in the parenthesis\n",
    "readline() that will read and print out only the first character that take up as many bytes as you specify in the parenthesis\n",
    "readline() function also reads from a file in read mode and returns a list of all lines in the file\n"
   ]
  },
  {
   "cell_type": "markdown",
   "id": "ca25572c",
   "metadata": {},
   "source": [
    "Q 9.What data structure does a shelf value resemble ?"
   ]
  },
  {
   "cell_type": "code",
   "execution_count": null,
   "id": "c3736a12",
   "metadata": {},
   "outputs": [],
   "source": [
    "#Ans:-\n",
    "a shelf value resemble a dictonary value ,it has keys and values, along with keys() and values() methods "
   ]
  }
 ],
 "metadata": {
  "kernelspec": {
   "display_name": "Python 3 (ipykernel)",
   "language": "python",
   "name": "python3"
  },
  "language_info": {
   "codemirror_mode": {
    "name": "ipython",
    "version": 3
   },
   "file_extension": ".py",
   "mimetype": "text/x-python",
   "name": "python",
   "nbconvert_exporter": "python",
   "pygments_lexer": "ipython3",
   "version": "3.9.7"
  }
 },
 "nbformat": 4,
 "nbformat_minor": 5
}
