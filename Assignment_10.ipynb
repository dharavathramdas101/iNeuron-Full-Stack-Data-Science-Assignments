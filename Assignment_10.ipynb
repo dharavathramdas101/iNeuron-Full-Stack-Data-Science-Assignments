{
 "cells": [
  {
   "cell_type": "code",
   "execution_count": null,
   "id": "ccd3d5c6",
   "metadata": {},
   "outputs": [],
   "source": []
  },
  {
   "cell_type": "markdown",
   "id": "e9473634",
   "metadata": {},
   "source": [
    "Q 1. How do you distinguish between shutil.copy() and shutil.copytree()?"
   ]
  },
  {
   "cell_type": "code",
   "execution_count": null,
   "id": "2dc49119",
   "metadata": {},
   "outputs": [],
   "source": [
    "#Ans:-\n",
    "shutil.copy():- shutil.copy() will copy a single file\n",
    "shutil.copytree():- shutill.copytree() will copy an entire folder and every folder and file contained in it"
   ]
  },
  {
   "cell_type": "code",
   "execution_count": null,
   "id": "cff57e97",
   "metadata": {},
   "outputs": [],
   "source": []
  },
  {
   "cell_type": "markdown",
   "id": "1b1caefd",
   "metadata": {},
   "source": [
    "Q 2. What function is used to rename files?"
   ]
  },
  {
   "cell_type": "code",
   "execution_count": null,
   "id": "0f6308b0",
   "metadata": {},
   "outputs": [],
   "source": [
    "#Ans:-\n",
    "rename() method in python is used to rename a file or directory .this method renames a sourse file/directory to specified destination file/directory"
   ]
  },
  {
   "cell_type": "markdown",
   "id": "927450ec",
   "metadata": {},
   "source": [
    "Q 3. What is the difference between the delete functions in the send2trash and shutil modules?"
   ]
  },
  {
   "cell_type": "code",
   "execution_count": null,
   "id": "b60d4ee4",
   "metadata": {},
   "outputs": [],
   "source": [
    "#Ans:-\n",
    "send2trash function will move a file or folder to the recycle bin\n",
    "shutil functions will permanently delete files and folders"
   ]
  },
  {
   "cell_type": "markdown",
   "id": "d10216f5",
   "metadata": {},
   "source": [
    "Q 4.ZipFile objects have a close() method just like File objects’ close() method. What ZipFile method is\n",
    "equivalent to File objects’ open() method?"
   ]
  },
  {
   "cell_type": "code",
   "execution_count": null,
   "id": "40ee9604",
   "metadata": {},
   "outputs": [],
   "source": [
    "#Ans:-\n",
    "the zipfile.ZipFile() function is equivalent to the open() function, the first argument is the filename ,and the second argument is the mode to open the ZIP file in (read,write,or append)\n",
    "\n",
    "zipfile.zipfile('filename',mode=\"r\")"
   ]
  },
  {
   "cell_type": "code",
   "execution_count": null,
   "id": "a679c7cc",
   "metadata": {},
   "outputs": [],
   "source": []
  },
  {
   "cell_type": "markdown",
   "id": "100196fa",
   "metadata": {},
   "source": [
    "Q 5. Create a programme that searches a folder tree for files with a certain file extension (such as .pdf\n",
    "or .jpg). Copy these files from whatever location they are in to a new folder."
   ]
  },
  {
   "cell_type": "code",
   "execution_count": 8,
   "id": "e29e986c",
   "metadata": {},
   "outputs": [
    {
     "name": "stdout",
     "output_type": "stream",
     "text": [
      "Looking in C:\\Users\\DHARAVATH RAMDAS\\randomFolder for files with extensions of .php, .py\n"
     ]
    }
   ],
   "source": [
    "#Ans:-\n",
    "import os, shutil\n",
    "\n",
    "def selectiveCopy(folder, extensions, destFolder):\n",
    "    folder = os.path.abspath(folder)\n",
    "    destFolder = os.path.abspath(destFolder)\n",
    "    print('Looking in', folder, 'for files with extensions of', ', '.join(extensions))\n",
    "    for foldername, subfolders, filenames in os.walk(folder):\n",
    "        for filename in filenames:\n",
    "            name, extension = os.path.splitext(filename)\n",
    "            if extension in extensions:\n",
    "                fileAbsPath = foldername + os.path.sep + filename\n",
    "                print('Coping', fileAbsPath, 'to', destFolder)\n",
    "                shutil.copy(fileAbsPath, destFolder)\n",
    "\n",
    "extensions = ['.php', '.py']\n",
    "folder = 'randomFolder'\n",
    "destFolder = 'selectiveFolder'\n",
    "selectiveCopy(folder, extensions, destFolder)"
   ]
  },
  {
   "cell_type": "code",
   "execution_count": null,
   "id": "55eeb425",
   "metadata": {},
   "outputs": [],
   "source": []
  }
 ],
 "metadata": {
  "kernelspec": {
   "display_name": "Python 3 (ipykernel)",
   "language": "python",
   "name": "python3"
  },
  "language_info": {
   "codemirror_mode": {
    "name": "ipython",
    "version": 3
   },
   "file_extension": ".py",
   "mimetype": "text/x-python",
   "name": "python",
   "nbconvert_exporter": "python",
   "pygments_lexer": "ipython3",
   "version": "3.9.7"
  }
 },
 "nbformat": 4,
 "nbformat_minor": 5
}
