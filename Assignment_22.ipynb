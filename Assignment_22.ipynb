{
 "cells": [
  {
   "cell_type": "markdown",
   "id": "6c810962",
   "metadata": {},
   "source": [
    "# iNeuron Assignment_22"
   ]
  },
  {
   "cell_type": "markdown",
   "id": "0f0ebc00",
   "metadata": {},
   "source": [
    "### 1. What is the result of the code, and explain?\n",
    "\n",
    "    X = 'iNeuron'\n",
    "    def func():\n",
    "    print(X)\n",
    "    func()"
   ]
  },
  {
   "cell_type": "markdown",
   "id": "b527d889",
   "metadata": {},
   "source": [
    "Ans:-\n",
    "    The result of this code is iNeuron , because the function intially looks for the variable X in its local scope, But since there is no local variable X,its return the value of global variable X ie iNeuron"
   ]
  },
  {
   "cell_type": "code",
   "execution_count": 2,
   "id": "37ad5d42",
   "metadata": {},
   "outputs": [
    {
     "name": "stdout",
     "output_type": "stream",
     "text": [
      "iNeuron\n"
     ]
    }
   ],
   "source": [
    "X = 'iNeuron'\n",
    "def func():\n",
    "    print(X)\n",
    "func()"
   ]
  },
  {
   "cell_type": "markdown",
   "id": "2dfda381",
   "metadata": {},
   "source": [
    "### 2. What is the result of the code, and explain?\n",
    "    >>> X = 'iNeuron'\n",
    "    >>> def func():\n",
    "    X = 'NI!'\n",
    "    >>> func()\n",
    "    >>> print(X)"
   ]
  },
  {
   "cell_type": "markdown",
   "id": "9e648c46",
   "metadata": {},
   "source": [
    "Ans:-\n",
    "    The result of this code is iNeuron , because the function intially looks for the variable X in its local scope variable is available but print is out side of function it will print global variable"
   ]
  },
  {
   "cell_type": "code",
   "execution_count": 3,
   "id": "8dbe39b8",
   "metadata": {},
   "outputs": [
    {
     "name": "stdout",
     "output_type": "stream",
     "text": [
      "iNeuron\n"
     ]
    }
   ],
   "source": [
    "X = 'iNeuron'\n",
    "def func():\n",
    "    X = 'NI!'\n",
    "func()\n",
    "print(X)"
   ]
  },
  {
   "cell_type": "markdown",
   "id": "980424d8",
   "metadata": {},
   "source": [
    "### 3. What does this code print, and why?\n",
    "    >>> X = 'iNeuron'\n",
    "    >>> def func():\n",
    "    X = 'NI'\n",
    "    print(X)\n",
    "    >>> func()\n",
    "    >>> print(X)"
   ]
  },
  {
   "cell_type": "markdown",
   "id": "abe62127",
   "metadata": {},
   "source": [
    "Ans:\n",
    "    the output of this code is NI and iNeuron. X='NI' is local scope of function so the function prints  the local and also globla variable when function call global variable"
   ]
  },
  {
   "cell_type": "code",
   "execution_count": 4,
   "id": "e2b09c60",
   "metadata": {},
   "outputs": [
    {
     "name": "stdout",
     "output_type": "stream",
     "text": [
      "NI\n",
      "iNeuron\n"
     ]
    }
   ],
   "source": [
    "X = 'iNeuron'\n",
    "def func():\n",
    "    X = 'NI'\n",
    "    print(X)\n",
    "func()\n",
    "print(X)"
   ]
  },
  {
   "cell_type": "markdown",
   "id": "a3ccdf34",
   "metadata": {},
   "source": [
    "### Q4. What output does this code produce? Why?\n",
    "    >>> X = 'iNeuron'\n",
    "    >>> def func():\n",
    "    global X\n",
    "    X = 'NI'\n",
    "    >>> func()\n",
    "    >>> print(X)"
   ]
  },
  {
   "cell_type": "markdown",
   "id": "fa4734d8",
   "metadata": {},
   "source": [
    "Ans:\n",
    " the output will be 'NI' , because of the function inside we define the global to variable so when we call function it will replace the variable and give the output 'NI'"
   ]
  },
  {
   "cell_type": "code",
   "execution_count": 5,
   "id": "6b2272ec",
   "metadata": {},
   "outputs": [
    {
     "name": "stdout",
     "output_type": "stream",
     "text": [
      "NI\n"
     ]
    }
   ],
   "source": [
    "X = 'iNeuron'\n",
    "def func():\n",
    "    global X\n",
    "    X = 'NI'\n",
    "func()\n",
    "print(X)"
   ]
  },
  {
   "cell_type": "markdown",
   "id": "3378f808",
   "metadata": {},
   "source": [
    "### 5. What about this code—what’s the output, and why?\n",
    "    >>> X = 'iNeuron'\n",
    "    >>> def func():\n",
    "    X = 'NI'\n",
    "    def nested():\n",
    "    print(X)\n",
    "    nested()\n",
    "    >>> func()\n",
    "    >>> X"
   ]
  },
  {
   "cell_type": "markdown",
   "id": "dbd4e427",
   "metadata": {},
   "source": [
    "Ans:\n",
    "    the output of the code is NI, the reason for this output is if a function wants to access a variable, if its not available in its loclascope,it looks for the variable in its globla scope,similarly here also function nested looks for variable X in its global scope, hence the output of this code is NI"
   ]
  },
  {
   "cell_type": "code",
   "execution_count": 6,
   "id": "6076c718",
   "metadata": {},
   "outputs": [
    {
     "name": "stdout",
     "output_type": "stream",
     "text": [
      "NI\n"
     ]
    },
    {
     "data": {
      "text/plain": [
       "'iNeuron'"
      ]
     },
     "execution_count": 6,
     "metadata": {},
     "output_type": "execute_result"
    }
   ],
   "source": [
    "X = 'iNeuron'\n",
    "def func():\n",
    "    X = 'NI'\n",
    "    def nested():\n",
    "        print(X)\n",
    "    nested()\n",
    "func()\n",
    "X"
   ]
  },
  {
   "cell_type": "markdown",
   "id": "08e3ce02",
   "metadata": {},
   "source": [
    "### 6. How about this code: what is its output in Python 3, and explain?\n",
    "    >>> def func():\n",
    "    X = 'NI'\n",
    "    def nested():\n",
    "    nonlocal X\n",
    "    X = 'Spam'\n",
    "    nested()\n",
    "    print(X)\n",
    "    >>> func()"
   ]
  },
  {
   "cell_type": "markdown",
   "id": "284ea062",
   "metadata": {},
   "source": [
    "Ans: The output of the code is spam, nonlocal keyword in python is used to declare a variable as not local. hence the statement X = 'Spam' is modified in the global scope hence the output of print(X) statement is Spam"
   ]
  },
  {
   "cell_type": "code",
   "execution_count": 7,
   "id": "f34967d8",
   "metadata": {},
   "outputs": [
    {
     "name": "stdout",
     "output_type": "stream",
     "text": [
      "Spam\n"
     ]
    }
   ],
   "source": [
    "def func():\n",
    "    X = 'NI'\n",
    "    def nested():\n",
    "        nonlocal X\n",
    "        X = 'Spam'\n",
    "    nested()\n",
    "    print(X)\n",
    "func()"
   ]
  },
  {
   "cell_type": "code",
   "execution_count": null,
   "id": "16a93b9c",
   "metadata": {},
   "outputs": [],
   "source": []
  }
 ],
 "metadata": {
  "kernelspec": {
   "display_name": "Python 3 (ipykernel)",
   "language": "python",
   "name": "python3"
  },
  "language_info": {
   "codemirror_mode": {
    "name": "ipython",
    "version": 3
   },
   "file_extension": ".py",
   "mimetype": "text/x-python",
   "name": "python",
   "nbconvert_exporter": "python",
   "pygments_lexer": "ipython3",
   "version": "3.9.7"
  }
 },
 "nbformat": 4,
 "nbformat_minor": 5
}
