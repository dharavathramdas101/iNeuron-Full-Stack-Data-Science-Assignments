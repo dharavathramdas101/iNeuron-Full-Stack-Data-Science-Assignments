{
 "cells": [
  {
   "cell_type": "markdown",
   "id": "781232ca",
   "metadata": {},
   "source": [
    "# Assignment_16"
   ]
  },
  {
   "cell_type": "markdown",
   "id": "a9ac62d6",
   "metadata": {},
   "source": [
    "Q1. Create a list called years_list, starting with the year of your birth, and each year thereafter until the year of your fifth birthday. For example, if you were born in 1980. the list would be years_list = [1980, 1981, 1982, 1983, 1984, 1985]."
   ]
  },
  {
   "cell_type": "code",
   "execution_count": 1,
   "id": "a6784ba7",
   "metadata": {},
   "outputs": [
    {
     "name": "stdout",
     "output_type": "stream",
     "text": [
      "[2000, 2001, 2002, 2003, 2004, 2005]\n"
     ]
    }
   ],
   "source": [
    "#Ans:-\n",
    "years_list = [i for i in range(2000,2000+6)]\n",
    "print(years_list)"
   ]
  },
  {
   "cell_type": "markdown",
   "id": "95373b6e",
   "metadata": {},
   "source": [
    "Q2. In which year in years_list was your third birthday? Remember, you were 0 years of age for your first year"
   ]
  },
  {
   "cell_type": "code",
   "execution_count": 2,
   "id": "202217b4",
   "metadata": {},
   "outputs": [
    {
     "name": "stdout",
     "output_type": "stream",
     "text": [
      "2003\n"
     ]
    }
   ],
   "source": [
    "#Ans:-\n",
    "print(years_list[3])"
   ]
  },
  {
   "cell_type": "markdown",
   "id": "d8d850e0",
   "metadata": {},
   "source": [
    "Q3.In the years list, which year were you the oldest?"
   ]
  },
  {
   "cell_type": "code",
   "execution_count": 3,
   "id": "d3b2b83c",
   "metadata": {},
   "outputs": [
    {
     "name": "stdout",
     "output_type": "stream",
     "text": [
      "2005\n"
     ]
    }
   ],
   "source": [
    "#Ans:\n",
    "print(years_list[-1])"
   ]
  },
  {
   "cell_type": "markdown",
   "id": "3d773420",
   "metadata": {},
   "source": [
    "Q4. Make a list called things with these three strings as elements: \"mozzarella\", \"cinderella\", \"salmonella\"."
   ]
  },
  {
   "cell_type": "code",
   "execution_count": 6,
   "id": "dafc7ff2",
   "metadata": {},
   "outputs": [
    {
     "name": "stdout",
     "output_type": "stream",
     "text": [
      "['mozzarella', 'cinderella', 'salmonella']\n"
     ]
    }
   ],
   "source": [
    "#Ans:-\n",
    "things = [ele+'ella' for ele in ['mozzar','cinder','salmon']]\n",
    "print(things)"
   ]
  },
  {
   "cell_type": "markdown",
   "id": "86ef356d",
   "metadata": {},
   "source": [
    "Q5. Capitalize the element in things that refers to a person and then print the list. Did it change the element in the list?"
   ]
  },
  {
   "cell_type": "code",
   "execution_count": 11,
   "id": "4dac8fd9",
   "metadata": {},
   "outputs": [
    {
     "name": "stdout",
     "output_type": "stream",
     "text": [
      "['Mozzarella', 'Cinderella', 'Salmonella']\n"
     ]
    }
   ],
   "source": [
    "#Ans:-\n",
    "for i in range(len(things)):\n",
    "    things[i]=things[i].capitalize()\n",
    "print(things)"
   ]
  },
  {
   "cell_type": "markdown",
   "id": "66560b01",
   "metadata": {},
   "source": [
    "Q6. Make a surprise list with the elements \"Groucho,\" \"Chico,\" and \"Harpo.\""
   ]
  },
  {
   "cell_type": "code",
   "execution_count": 13,
   "id": "466d0b74",
   "metadata": {},
   "outputs": [
    {
     "name": "stdout",
     "output_type": "stream",
     "text": [
      "['Groucho', 'Chico', 'Harpo']\n"
     ]
    }
   ],
   "source": [
    "#Ans:-\n",
    "surprise_list = [\"Groucho\", \"Chico\" , \"Harpo\"]\n",
    "print(surprise_list)"
   ]
  },
  {
   "cell_type": "markdown",
   "id": "7042f940",
   "metadata": {},
   "source": [
    "Q7. Lowercase the last element of the surprise list, reverse it, and then capitalize it."
   ]
  },
  {
   "cell_type": "code",
   "execution_count": 15,
   "id": "dd04329d",
   "metadata": {},
   "outputs": [
    {
     "name": "stdout",
     "output_type": "stream",
     "text": [
      "Oprah\n"
     ]
    }
   ],
   "source": [
    "#Ans:-\n",
    "print(surprise_list[-1].lower()[::-1].capitalize())"
   ]
  },
  {
   "cell_type": "markdown",
   "id": "85de6d6c",
   "metadata": {},
   "source": [
    "Q8. Make an English-to-French dictionary called e2f and print it. Here are your starter words: dog is chien, cat is chat, and walrus is morse."
   ]
  },
  {
   "cell_type": "code",
   "execution_count": 16,
   "id": "f2f3bf1e",
   "metadata": {},
   "outputs": [
    {
     "name": "stdout",
     "output_type": "stream",
     "text": [
      "{'dog': 'chien', 'cat': 'chat', 'walrus': 'morse'}\n"
     ]
    }
   ],
   "source": [
    "#Ans:-\n",
    "e2f = {'dog':'chien','cat':'chat','walrus':'morse'}\n",
    "print(e2f)"
   ]
  },
  {
   "cell_type": "markdown",
   "id": "8c488b18",
   "metadata": {},
   "source": [
    "Q9. Write the French word for walrus in your three-word dictionary e2f."
   ]
  },
  {
   "cell_type": "code",
   "execution_count": 17,
   "id": "2733af26",
   "metadata": {},
   "outputs": [
    {
     "name": "stdout",
     "output_type": "stream",
     "text": [
      "morse\n"
     ]
    }
   ],
   "source": [
    "#Ans:-\n",
    "print(e2f['walrus'])"
   ]
  },
  {
   "cell_type": "markdown",
   "id": "e7062d99",
   "metadata": {},
   "source": [
    "Q10. Make a French-to-English dictionary called f2e from e2f. Use the items method."
   ]
  },
  {
   "cell_type": "code",
   "execution_count": 21,
   "id": "d0830587",
   "metadata": {},
   "outputs": [
    {
     "name": "stdout",
     "output_type": "stream",
     "text": [
      "{'chien': 'dog', 'chat': 'cat', 'morse': 'walrus'}\n"
     ]
    }
   ],
   "source": [
    "#Ans:-\n",
    "f2e = dict([ele[::-1] for ele in e2f.items()])\n",
    "print(f2e)"
   ]
  },
  {
   "cell_type": "markdown",
   "id": "5b2bd406",
   "metadata": {},
   "source": [
    "Q11. Print the English version of the French word chien using f2e."
   ]
  },
  {
   "cell_type": "code",
   "execution_count": 22,
   "id": "0187877c",
   "metadata": {},
   "outputs": [
    {
     "name": "stdout",
     "output_type": "stream",
     "text": [
      "dog\n"
     ]
    }
   ],
   "source": [
    "#Ans:-\n",
    "print(f2e['chien'])"
   ]
  },
  {
   "cell_type": "markdown",
   "id": "b1e328ba",
   "metadata": {},
   "source": [
    "Q12. Make and print a set of English words from the keys in e2f."
   ]
  },
  {
   "cell_type": "code",
   "execution_count": 23,
   "id": "3c874ad7",
   "metadata": {},
   "outputs": [
    {
     "name": "stdout",
     "output_type": "stream",
     "text": [
      "['dog', 'cat', 'walrus']\n"
     ]
    }
   ],
   "source": [
    "#Ans:-\n",
    "print(list(e2f.keys()))"
   ]
  },
  {
   "cell_type": "markdown",
   "id": "e2a381b7",
   "metadata": {},
   "source": [
    "Q13. Make a multilevel dictionary called life. Use these strings for the topmost keys: 'animals', 'plants', and 'other'. Make the 'animals' key refer to another dictionary with the keys 'cats', 'octopi', and 'emus'. Make the 'cats' key refer to a list of strings with the values 'Henri', 'Grumpy', and 'Lucy'. Make all the other keys refer to empty dictionaries."
   ]
  },
  {
   "cell_type": "code",
   "execution_count": 24,
   "id": "f242d50d",
   "metadata": {},
   "outputs": [
    {
     "name": "stdout",
     "output_type": "stream",
     "text": [
      "{'animals': {'cats': ['Henri', 'Grumpy', 'Lucy'], 'octopi': {}, 'emus': {}}, 'plants': {}, 'other': {}}\n"
     ]
    }
   ],
   "source": [
    "#Ans:-\n",
    "life = {'animals':{'cats':['Henri','Grumpy','Lucy'], 'octopi':{}, 'emus':{}}, 'plants':{},'other':{}}\n",
    "print(life)"
   ]
  },
  {
   "cell_type": "markdown",
   "id": "7e6cdacb",
   "metadata": {},
   "source": [
    "Q14. Print the top-level keys of life."
   ]
  },
  {
   "cell_type": "code",
   "execution_count": 25,
   "id": "dc993385",
   "metadata": {},
   "outputs": [
    {
     "name": "stdout",
     "output_type": "stream",
     "text": [
      "['animals', 'plants', 'other']\n"
     ]
    }
   ],
   "source": [
    "#Ans:-\n",
    "print(list(life.keys()))"
   ]
  },
  {
   "cell_type": "markdown",
   "id": "6fc3feeb",
   "metadata": {},
   "source": [
    "Q15. Print the keys for life['animals']."
   ]
  },
  {
   "cell_type": "code",
   "execution_count": 27,
   "id": "f356a3c0",
   "metadata": {},
   "outputs": [
    {
     "data": {
      "text/plain": [
       "dict_keys(['cats', 'octopi', 'emus'])"
      ]
     },
     "execution_count": 27,
     "metadata": {},
     "output_type": "execute_result"
    }
   ],
   "source": [
    "#Ans:-\n",
    "life['animals'].keys()"
   ]
  },
  {
   "cell_type": "markdown",
   "id": "ad48b49f",
   "metadata": {},
   "source": [
    "Q16. Print the values for life['animals']['cats']"
   ]
  },
  {
   "cell_type": "code",
   "execution_count": 28,
   "id": "d9d0069e",
   "metadata": {},
   "outputs": [
    {
     "name": "stdout",
     "output_type": "stream",
     "text": [
      "['Henri', 'Grumpy', 'Lucy']\n"
     ]
    }
   ],
   "source": [
    "#Ans:-\n",
    "print(life['animals']['cats'])"
   ]
  }
 ],
 "metadata": {
  "kernelspec": {
   "display_name": "Python 3 (ipykernel)",
   "language": "python",
   "name": "python3"
  },
  "language_info": {
   "codemirror_mode": {
    "name": "ipython",
    "version": 3
   },
   "file_extension": ".py",
   "mimetype": "text/x-python",
   "name": "python",
   "nbconvert_exporter": "python",
   "pygments_lexer": "ipython3",
   "version": "3.9.7"
  }
 },
 "nbformat": 4,
 "nbformat_minor": 5
}
