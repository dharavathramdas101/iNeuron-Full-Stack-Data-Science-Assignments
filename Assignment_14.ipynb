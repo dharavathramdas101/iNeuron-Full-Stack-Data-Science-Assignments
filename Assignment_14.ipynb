{
 "cells": [
  {
   "cell_type": "markdown",
   "id": "a28501a1",
   "metadata": {},
   "source": [
    "# Assignment_14"
   ]
  },
  {
   "cell_type": "markdown",
   "id": "82b475d0",
   "metadata": {},
   "source": [
    "Q1. What does RGBA stand for?"
   ]
  },
  {
   "cell_type": "code",
   "execution_count": null,
   "id": "0700ab0f",
   "metadata": {},
   "outputs": [],
   "source": [
    "#Ans:-\n",
    "RGBA(Red-Green-Blue-Alpha) The format of the RGBA Value.\n",
    "The RGB color model is extended in this specification to include “alpha” to \n",
    "allow specification of the opacity of a color."
   ]
  },
  {
   "cell_type": "markdown",
   "id": "9a6bb3bf",
   "metadata": {},
   "source": [
    "Q2. From the Pillow module, how do you get the RGBA value of any images?"
   ]
  },
  {
   "cell_type": "code",
   "execution_count": 10,
   "id": "d8cf8bfb",
   "metadata": {},
   "outputs": [],
   "source": [
    "#Ans:-\n",
    " ImageColor.getcolor() gives rgba value of any image"
   ]
  },
  {
   "cell_type": "markdown",
   "id": "e71b6cd3",
   "metadata": {},
   "source": [
    "Q3. What is a box tuple, and how does it work?"
   ]
  },
  {
   "cell_type": "code",
   "execution_count": 11,
   "id": "7bdea692",
   "metadata": {},
   "outputs": [],
   "source": [
    "#Ans:-\n",
    "A box tuple is a tuple value of four integers: the left-edge x-coordinate, \n",
    "the top-edge y-coordinate,the width, and the height, respectively."
   ]
  },
  {
   "cell_type": "markdown",
   "id": "d1f18df1",
   "metadata": {},
   "source": [
    "Q4. Use your image and load in notebook then, How can you find out the width\n",
    "and height of an Image object?"
   ]
  },
  {
   "cell_type": "code",
   "execution_count": 6,
   "id": "43ec10cf",
   "metadata": {},
   "outputs": [
    {
     "name": "stdout",
     "output_type": "stream",
     "text": [
      "Width, Height -> (1448, 1960)\n",
      "Width, Height -> 1448,1960\n",
      "Width, Height -> 1448,1960\n"
     ]
    }
   ],
   "source": [
    "#Ans:-\n",
    "\n",
    "#Example Program\n",
    "from PIL import Image\n",
    "pic = Image.open(r\"C:\\Users\\DHARAVATH RAMDAS\\OneDrive\\Pictures\\photo ramdas.jpg\")\n",
    "print(f'Width, Height -> {pic.size}') # Approach 1\n",
    "print(f'Width, Height -> {pic.width},{pic.height}') # Approach 2\n",
    "width,height = pic.size\n",
    "print(f'Width, Height -> {width},{height}') # Approach 3"
   ]
  },
  {
   "cell_type": "markdown",
   "id": "6d569698",
   "metadata": {},
   "source": [
    "Q5. What method would you call to get Image object for a 100×100 image, excluding the lower-left quarter of it?"
   ]
  },
  {
   "cell_type": "code",
   "execution_count": 7,
   "id": "0d861010",
   "metadata": {},
   "outputs": [],
   "source": [
    "#Ans:-\n",
    "from PIL import Image\n",
    "img = Image.open(r\"C:\\Users\\DHARAVATH RAMDAS\\OneDrive\\Pictures\\photo ramdas.jpg\")\n",
    "new_img = img.crop((0,50,50,50))"
   ]
  },
  {
   "cell_type": "markdown",
   "id": "8dee8e93",
   "metadata": {},
   "source": [
    "Q6. After making changes to an Image object, how could you save it as an image file?"
   ]
  },
  {
   "cell_type": "code",
   "execution_count": 9,
   "id": "30e3ee7d",
   "metadata": {},
   "outputs": [],
   "source": [
    "#Ans:-\n",
    "#Example Program\n",
    "from PIL import Image\n",
    "pic = Image.open(r\"C:\\Users\\DHARAVATH RAMDAS\\OneDrive\\Pictures\\photo ramdas.jpg\")\n",
    "pic.save('pic2.jpg')"
   ]
  },
  {
   "cell_type": "markdown",
   "id": "7059d45e",
   "metadata": {},
   "source": [
    "Q7. What module contains Pillow’s shape-drawing code?"
   ]
  },
  {
   "cell_type": "code",
   "execution_count": null,
   "id": "e8b78d5f",
   "metadata": {},
   "outputs": [],
   "source": [
    "#Ans:-\n",
    "Pillows ImageDraw module contains Shape drawing methods"
   ]
  },
  {
   "cell_type": "markdown",
   "id": "82621da9",
   "metadata": {},
   "source": [
    "Q8. Image objects do not have drawing methods. What kind of object does? How do you get this kind of object?"
   ]
  },
  {
   "cell_type": "code",
   "execution_count": null,
   "id": "21da0827",
   "metadata": {},
   "outputs": [],
   "source": [
    "#Ans:-\n",
    "ImageDraw objects have shape-drawing methods such as point(), line(), \n",
    "or rectangle().They are returned by passing the Image object to the ImageDraw.\n",
    "Draw() function."
   ]
  },
  {
   "cell_type": "code",
   "execution_count": null,
   "id": "feda8679",
   "metadata": {},
   "outputs": [],
   "source": []
  }
 ],
 "metadata": {
  "kernelspec": {
   "display_name": "Python 3 (ipykernel)",
   "language": "python",
   "name": "python3"
  },
  "language_info": {
   "codemirror_mode": {
    "name": "ipython",
    "version": 3
   },
   "file_extension": ".py",
   "mimetype": "text/x-python",
   "name": "python",
   "nbconvert_exporter": "python",
   "pygments_lexer": "ipython3",
   "version": "3.9.7"
  }
 },
 "nbformat": 4,
 "nbformat_minor": 5
}
