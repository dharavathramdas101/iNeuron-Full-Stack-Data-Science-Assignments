{
 "cells": [
  {
   "cell_type": "markdown",
   "id": "e2c9160f",
   "metadata": {},
   "source": [
    "# Assignment 04"
   ]
  },
  {
   "cell_type": "markdown",
   "id": "84ea8f42",
   "metadata": {},
   "source": [
    "Q 1. What exactly is []?"
   ]
  },
  {
   "cell_type": "code",
   "execution_count": null,
   "id": "9f44f2a7",
   "metadata": {},
   "outputs": [],
   "source": [
    "Ans:-\n",
    "empty list in python square brackets"
   ]
  },
  {
   "cell_type": "markdown",
   "id": "58e7a9d2",
   "metadata": {},
   "source": [
    "Q 2. In a list of values stored in a variable called spam, how would you assign the value 'hello' as the third value? (Assume [2, 4, 6, 8, 10] are in spam.)Lets pretend the spam includes the list ['a','b','c','d'] for the next three queries."
   ]
  },
  {
   "cell_type": "code",
   "execution_count": 3,
   "id": "bc12144e",
   "metadata": {},
   "outputs": [
    {
     "data": {
      "text/plain": [
       "[2, 4, 'hello', 8, 10]"
      ]
     },
     "execution_count": 3,
     "metadata": {},
     "output_type": "execute_result"
    }
   ],
   "source": [
    "Ans:-\n",
    "spam = [2,4,6,8,10]\n",
    "spam[2]='hello'\n",
    "spam"
   ]
  },
  {
   "cell_type": "code",
   "execution_count": 12,
   "id": "9eacf062",
   "metadata": {},
   "outputs": [
    {
     "data": {
      "text/plain": [
       "[2, 4, 6, 'hello', 8, 10]"
      ]
     },
     "execution_count": 12,
     "metadata": {},
     "output_type": "execute_result"
    }
   ],
   "source": [
    "spam.insert(3,'hello')\n",
    "spam"
   ]
  },
  {
   "cell_type": "code",
   "execution_count": 5,
   "id": "e0647647",
   "metadata": {},
   "outputs": [],
   "source": [
    "spam = ['a','b','c','d']"
   ]
  },
  {
   "cell_type": "markdown",
   "id": "368eb9d1",
   "metadata": {},
   "source": [
    "Q 3. What is the value of spam[int(int('3' * 2) / 11)]?"
   ]
  },
  {
   "cell_type": "code",
   "execution_count": 18,
   "id": "4cebdf6d",
   "metadata": {},
   "outputs": [
    {
     "data": {
      "text/plain": [
       "'d'"
      ]
     },
     "execution_count": 18,
     "metadata": {},
     "output_type": "execute_result"
    }
   ],
   "source": [
    "Ans:-\n",
    "spam[3]  # it will print 'd'"
   ]
  },
  {
   "cell_type": "markdown",
   "id": "ef62d16f",
   "metadata": {},
   "source": [
    "Q 4. What is the value of spam[-1]?"
   ]
  },
  {
   "cell_type": "code",
   "execution_count": 6,
   "id": "71509748",
   "metadata": {},
   "outputs": [
    {
     "data": {
      "text/plain": [
       "'d'"
      ]
     },
     "execution_count": 6,
     "metadata": {},
     "output_type": "execute_result"
    }
   ],
   "source": [
    "Ans:-\n",
    "spam[-1]\n",
    " # return the ending value negative indexing"
   ]
  },
  {
   "cell_type": "code",
   "execution_count": 19,
   "id": "14bcfe2b",
   "metadata": {},
   "outputs": [
    {
     "data": {
      "text/plain": [
       "'d'"
      ]
     },
     "execution_count": 19,
     "metadata": {},
     "output_type": "execute_result"
    }
   ],
   "source": [
    "spam[-1]"
   ]
  },
  {
   "cell_type": "markdown",
   "id": "84b7807a",
   "metadata": {},
   "source": [
    "Q 5. What is the value of spam[:2]? Lets pretend bacon has the list [3.14, cat,11, cat, True] for the next three questions."
   ]
  },
  {
   "cell_type": "code",
   "execution_count": 7,
   "id": "d280e142",
   "metadata": {},
   "outputs": [
    {
     "data": {
      "text/plain": [
       "['a', 'b']"
      ]
     },
     "execution_count": 7,
     "metadata": {},
     "output_type": "execute_result"
    }
   ],
   "source": [
    "Ans:-\n",
    "spam[:2]  # return spam[0,1] ==> ['a','b']\n",
    "           # it will return the 0 and 1 index in a list only not print ending list"
   ]
  },
  {
   "cell_type": "code",
   "execution_count": 20,
   "id": "a47b99da",
   "metadata": {},
   "outputs": [
    {
     "data": {
      "text/plain": [
       "['a', 'b']"
      ]
     },
     "execution_count": 20,
     "metadata": {},
     "output_type": "execute_result"
    }
   ],
   "source": [
    "spam[:2]"
   ]
  },
  {
   "cell_type": "code",
   "execution_count": 9,
   "id": "d3497a99",
   "metadata": {},
   "outputs": [],
   "source": [
    "bacon= [3.14,'cat',11,'cat',True]"
   ]
  },
  {
   "cell_type": "markdown",
   "id": "469f20dd",
   "metadata": {},
   "source": [
    "Q 6. What is the value of bacon.index('cat')?"
   ]
  },
  {
   "cell_type": "code",
   "execution_count": null,
   "id": "06f1ca77",
   "metadata": {},
   "outputs": [],
   "source": [
    "Ans:-\n",
    "    return 1 as its index value first preference"
   ]
  },
  {
   "cell_type": "code",
   "execution_count": 10,
   "id": "9fbf1db2",
   "metadata": {},
   "outputs": [
    {
     "data": {
      "text/plain": [
       "1"
      ]
     },
     "execution_count": 10,
     "metadata": {},
     "output_type": "execute_result"
    }
   ],
   "source": [
    "bacon.index('cat')"
   ]
  },
  {
   "cell_type": "markdown",
   "id": "2cdc3365",
   "metadata": {},
   "source": [
    "Q 7. How does bacon.append(99) change the look of the list value in bacon?"
   ]
  },
  {
   "cell_type": "code",
   "execution_count": null,
   "id": "d1643308",
   "metadata": {},
   "outputs": [],
   "source": [
    "Ans:-\n",
    "    it is appended the value in the last"
   ]
  },
  {
   "cell_type": "code",
   "execution_count": 11,
   "id": "0d8e4692",
   "metadata": {},
   "outputs": [
    {
     "data": {
      "text/plain": [
       "[3.14, 'cat', 11, 'cat', True, 99]"
      ]
     },
     "execution_count": 11,
     "metadata": {},
     "output_type": "execute_result"
    }
   ],
   "source": [
    "bacon.append(99)\n",
    "bacon"
   ]
  },
  {
   "cell_type": "markdown",
   "id": "f0c60fa7",
   "metadata": {},
   "source": [
    "Q 8. How does bacon.remove('cat') change the look of the list in bacon?"
   ]
  },
  {
   "cell_type": "code",
   "execution_count": null,
   "id": "b13bd06e",
   "metadata": {},
   "outputs": [],
   "source": [
    "Ans:-\n",
    "    it will remove the cat in the first one in list"
   ]
  },
  {
   "cell_type": "code",
   "execution_count": 13,
   "id": "d54e3163",
   "metadata": {},
   "outputs": [
    {
     "data": {
      "text/plain": [
       "[3.14, 11, True, 99]"
      ]
     },
     "execution_count": 13,
     "metadata": {},
     "output_type": "execute_result"
    }
   ],
   "source": [
    "bacon.remove('cat')\n",
    "bacon"
   ]
  },
  {
   "cell_type": "markdown",
   "id": "f8fa0675",
   "metadata": {},
   "source": [
    "Q 9. What are the list concatenation and list replication operators?"
   ]
  },
  {
   "cell_type": "code",
   "execution_count": null,
   "id": "75880a2a",
   "metadata": {},
   "outputs": [],
   "source": [
    "Ans:-\n",
    "    list concatenation we concatenate the two list "
   ]
  },
  {
   "cell_type": "code",
   "execution_count": 28,
   "id": "9db849c5",
   "metadata": {},
   "outputs": [
    {
     "data": {
      "text/plain": [
       "[1, 2, 3, 4, 5, 4, 'hi', 'iNeuron']"
      ]
     },
     "execution_count": 28,
     "metadata": {},
     "output_type": "execute_result"
    }
   ],
   "source": [
    "concatenation\n",
    "l1= [1,2,3,4,5]\n",
    "l2= [4,'hi','iNeuron']\n",
    "l1 + l2"
   ]
  },
  {
   "cell_type": "code",
   "execution_count": null,
   "id": "60e06989",
   "metadata": {},
   "outputs": [],
   "source": [
    "list replication operator is used to return the list into two times"
   ]
  },
  {
   "cell_type": "code",
   "execution_count": 29,
   "id": "0f348b3e",
   "metadata": {},
   "outputs": [
    {
     "data": {
      "text/plain": [
       "[1, 2, 3, 4, 5, 1, 2, 3, 4, 5]"
      ]
     },
     "execution_count": 29,
     "metadata": {},
     "output_type": "execute_result"
    }
   ],
   "source": [
    "l1 * 2"
   ]
  },
  {
   "cell_type": "markdown",
   "id": "933a17dd",
   "metadata": {},
   "source": [
    "Q 10. What is difference between the list methods append() and insert()?"
   ]
  },
  {
   "cell_type": "code",
   "execution_count": null,
   "id": "76a066ce",
   "metadata": {},
   "outputs": [],
   "source": [
    "Ans:-\n",
    "append():- append is used to add the value in list at the end of list\n",
    "insert():- insert is used to inser a value in the particular position based on its index value"
   ]
  },
  {
   "cell_type": "code",
   "execution_count": 16,
   "id": "fc3f822f",
   "metadata": {},
   "outputs": [
    {
     "name": "stdout",
     "output_type": "stream",
     "text": [
      "[2, 4, 6, 7, 89, 6]\n",
      "[2, 4, 6, 'hi', 7, 89, 6]\n"
     ]
    }
   ],
   "source": [
    "list=[2,4,6,7,89]\n",
    "list.append(6)\n",
    "print(list)\n",
    "list.insert(3,'hi')\n",
    "print(list)"
   ]
  },
  {
   "cell_type": "markdown",
   "id": "0f00219d",
   "metadata": {},
   "source": [
    "Q 11. What are the two methods for removing items from a list?"
   ]
  },
  {
   "cell_type": "code",
   "execution_count": null,
   "id": "f10a8969",
   "metadata": {},
   "outputs": [],
   "source": [
    "Ans:-\n",
    "    remove and del methods are used to remove value from a list"
   ]
  },
  {
   "cell_type": "code",
   "execution_count": 20,
   "id": "979f8830",
   "metadata": {},
   "outputs": [
    {
     "name": "stdout",
     "output_type": "stream",
     "text": [
      "[2, 4, 'hi', 7, 89]\n"
     ]
    }
   ],
   "source": [
    "list.remove(6)\n",
    "print(list)"
   ]
  },
  {
   "cell_type": "code",
   "execution_count": 38,
   "id": "a59cc4d3",
   "metadata": {},
   "outputs": [],
   "source": [
    "del list\n",
    "# del is used to delete the list"
   ]
  },
  {
   "cell_type": "markdown",
   "id": "3ef4f9ef",
   "metadata": {},
   "source": [
    "Q 12. Describe how list values and string values are identical.?"
   ]
  },
  {
   "cell_type": "code",
   "execution_count": null,
   "id": "b95fa81c",
   "metadata": {},
   "outputs": [],
   "source": [
    "Ans:-\n",
    "    both list and string are sequences ,string is immutable and list is mutable ,string is stored only one data type but list is stored collection data types "
   ]
  },
  {
   "cell_type": "code",
   "execution_count": 26,
   "id": "c233b643",
   "metadata": {},
   "outputs": [],
   "source": [
    "string=\"ineuron\""
   ]
  },
  {
   "cell_type": "code",
   "execution_count": 27,
   "id": "b2d10404",
   "metadata": {},
   "outputs": [],
   "source": [
    "list1=[1,3,4.4,\"hi\",True]"
   ]
  },
  {
   "cell_type": "markdown",
   "id": "e8511535",
   "metadata": {},
   "source": [
    "Q 13. What's the difference between tuples and lists?"
   ]
  },
  {
   "cell_type": "code",
   "execution_count": null,
   "id": "d0356856",
   "metadata": {},
   "outputs": [],
   "source": [
    "Ans:-\n",
    "tuple:-tuple is used to represent (),tuple is immutaable ,tuple is stored collection datatypes\n",
    "list:- list is useed to represent [],list is mutable ,list is used to store collection datatypes    \n",
    "    "
   ]
  },
  {
   "cell_type": "code",
   "execution_count": 28,
   "id": "bdeadb1c",
   "metadata": {},
   "outputs": [],
   "source": [
    "list=[2,4.4,\"india\",False]"
   ]
  },
  {
   "cell_type": "code",
   "execution_count": 29,
   "id": "41e9bddd",
   "metadata": {},
   "outputs": [],
   "source": [
    "tuple=(1,5.5,\"ineuron\",True)"
   ]
  },
  {
   "cell_type": "markdown",
   "id": "982ffc57",
   "metadata": {},
   "source": [
    "Q 14. How do you type a tuple value that only contains the integer 42?"
   ]
  },
  {
   "cell_type": "code",
   "execution_count": null,
   "id": "aacd8291",
   "metadata": {},
   "outputs": [],
   "source": [
    "Ans:-\n",
    "    we can use like (42,) after 42 we represent , to represent tuple otherwise it is int"
   ]
  },
  {
   "cell_type": "code",
   "execution_count": 35,
   "id": "c26a12ac",
   "metadata": {},
   "outputs": [
    {
     "data": {
      "text/plain": [
       "tuple"
      ]
     },
     "execution_count": 35,
     "metadata": {},
     "output_type": "execute_result"
    }
   ],
   "source": [
    "tuple1=(42,)\n",
    "type(tuple1)"
   ]
  },
  {
   "cell_type": "markdown",
   "id": "1e4c6625",
   "metadata": {},
   "source": [
    "Q 15. How do you get a list value's tuple form? How do you get a tuple value's list form?"
   ]
  },
  {
   "cell_type": "code",
   "execution_count": 37,
   "id": "4a830726",
   "metadata": {},
   "outputs": [],
   "source": [
    "Ans:-\n",
    "we can use list type casting and tuple type casting\n",
    "list() = list constructor\n",
    "type()= tuple constructor"
   ]
  },
  {
   "cell_type": "markdown",
   "id": "6c4a2df6",
   "metadata": {},
   "source": [
    "Q 16. Variables that \"contain\" list values are not necessarily lists themselves. Instead, what do they contain?"
   ]
  },
  {
   "cell_type": "code",
   "execution_count": null,
   "id": "3367af24",
   "metadata": {},
   "outputs": [],
   "source": [
    " Ans:-\n",
    "        They contain references to list values"
   ]
  },
  {
   "cell_type": "markdown",
   "id": "4cbe0bb3",
   "metadata": {},
   "source": [
    "Q 17. How do you distinguish between copy.copy() and copy.deepcopy()?"
   ]
  },
  {
   "cell_type": "code",
   "execution_count": null,
   "id": "9a631505",
   "metadata": {},
   "outputs": [],
   "source": [
    "Ans:-\n",
    "    copy().copy() function will do a shallow copy of a list ,\n",
    "    copy().deepcopy() function will do a deep copy of a list ,only deepcopy() will duplicate any lists inside the list"
   ]
  }
 ],
 "metadata": {
  "kernelspec": {
   "display_name": "Python 3 (ipykernel)",
   "language": "python",
   "name": "python3"
  },
  "language_info": {
   "codemirror_mode": {
    "name": "ipython",
    "version": 3
   },
   "file_extension": ".py",
   "mimetype": "text/x-python",
   "name": "python",
   "nbconvert_exporter": "python",
   "pygments_lexer": "ipython3",
   "version": "3.9.7"
  }
 },
 "nbformat": 4,
 "nbformat_minor": 5
}
