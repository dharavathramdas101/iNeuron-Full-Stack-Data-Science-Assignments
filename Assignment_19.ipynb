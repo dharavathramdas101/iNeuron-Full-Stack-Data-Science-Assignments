{
 "cells": [
  {
   "cell_type": "markdown",
   "id": "b6be9c19",
   "metadata": {},
   "source": [
    "# Assignment_19"
   ]
  },
  {
   "cell_type": "markdown",
   "id": "44dcedc3",
   "metadata": {},
   "source": [
    "Q1. Make a class called Thing with no contents and print it. Then, create an object called example from this class and also print it. Are the printed values the same or different?"
   ]
  },
  {
   "cell_type": "code",
   "execution_count": 3,
   "id": "e69b4773",
   "metadata": {},
   "outputs": [
    {
     "name": "stdout",
     "output_type": "stream",
     "text": [
      "<class '__main__.Things'>\n",
      "<__main__.Things object at 0x000001FA7421FA60>\n"
     ]
    }
   ],
   "source": [
    "#Ans:-\n",
    "class Things:\n",
    "    pass\n",
    "\n",
    "print(Things)\n",
    "\n",
    "example=Things()\n",
    "print(example)"
   ]
  },
  {
   "cell_type": "markdown",
   "id": "3615cfe1",
   "metadata": {},
   "source": [
    "Q2. Create a new class called Thing2 and add the value 'abc' to the letters class attribute. Letters should be printed."
   ]
  },
  {
   "cell_type": "code",
   "execution_count": 4,
   "id": "584f6855",
   "metadata": {},
   "outputs": [
    {
     "name": "stdout",
     "output_type": "stream",
     "text": [
      "abc\n"
     ]
    }
   ],
   "source": [
    "#Ans:-\n",
    "class Things2:\n",
    "    letters = 'abc'\n",
    "    \n",
    "example1=Things2()\n",
    "print(example1.letters)"
   ]
  },
  {
   "cell_type": "markdown",
   "id": "43aaf1be",
   "metadata": {},
   "source": [
    "Q3. Make yet another class called, of course, Thing3. This time, assign the value 'xyz' to an instance (object) attribute called letters. Print letters. Do you need to make an object from the class to do this?"
   ]
  },
  {
   "cell_type": "code",
   "execution_count": 6,
   "id": "cc615602",
   "metadata": {},
   "outputs": [
    {
     "name": "stdout",
     "output_type": "stream",
     "text": [
      "xyz\n"
     ]
    }
   ],
   "source": [
    "#Ans:-\n",
    "class Thing3:\n",
    "    def __init__(self):\n",
    "        self.letters = 'xyz'\n",
    "        \n",
    "try:\n",
    "    print(Things.letters)  # will raise you syntax error\n",
    "except:\n",
    "    my_thing = Thing3()\n",
    "    print(my_thing.letters)"
   ]
  },
  {
   "cell_type": "markdown",
   "id": "a9650d94",
   "metadata": {},
   "source": [
    "Q4. Create an Element class with the instance attributes name, symbol, and number. Create a class object with the values 'Hydrogen,' 'H,' and 1"
   ]
  },
  {
   "cell_type": "code",
   "execution_count": 9,
   "id": "b3635978",
   "metadata": {},
   "outputs": [
    {
     "name": "stdout",
     "output_type": "stream",
     "text": [
      "Hydrogen\n",
      "H\n",
      "1\n"
     ]
    }
   ],
   "source": [
    "#Ans:-\n",
    "class Element:\n",
    "    def __init__(self,name,symbol,number):\n",
    "        self.name = name\n",
    "        self.symbol = symbol\n",
    "        self.number =number\n",
    "object1 = Element('Hydrogen','H',1)\n",
    "print(object1.name)\n",
    "print(object1.symbol)\n",
    "print(object1.number)"
   ]
  },
  {
   "cell_type": "markdown",
   "id": "ff5239e9",
   "metadata": {},
   "source": [
    "Q5. Make a dictionary with these keys and values: 'name': 'Hydrogen', 'symbol': 'H', 'number': 1. Then, create an object called hydrogen from class Element using this dictionary."
   ]
  },
  {
   "cell_type": "code",
   "execution_count": 18,
   "id": "7f79f19d",
   "metadata": {},
   "outputs": [
    {
     "name": "stdout",
     "output_type": "stream",
     "text": [
      "method1 : Hydrogen H 1\n",
      "method 2 : Hydrogen H 1\n"
     ]
    }
   ],
   "source": [
    "#Ans:-\n",
    "dict1 = {'name':'Hydrogen','symbol':'H','number':1}\n",
    "object2 = Element(**dict1)\n",
    "print(\"method1 :\",object2.name,object2.symbol,object2.number)\n",
    "\n",
    "# method 2\n",
    "object3 =  Element(*dict1.values())\n",
    "print(\"method 2 :\",object3.name,object3.symbol,object3.number)"
   ]
  },
  {
   "cell_type": "markdown",
   "id": "c27bee73",
   "metadata": {},
   "source": [
    "Q6. For the Element class, define a method called dump() that prints the values of the object’s attributes (name, symbol, and number). Create the hydrogen object from this new definition and use dump() to print its attributes."
   ]
  },
  {
   "cell_type": "code",
   "execution_count": 20,
   "id": "3800390c",
   "metadata": {},
   "outputs": [
    {
     "name": "stdout",
     "output_type": "stream",
     "text": [
      "Hyderogen H 1\n"
     ]
    }
   ],
   "source": [
    "#Ans:-\n",
    "class Element:\n",
    "    def __init__(self, name, symbol, number):\n",
    "        self.name = name\n",
    "        self.symbol = symbol\n",
    "        self.number = number    \n",
    "    def dump(self):\n",
    "        print(self.name,self.symbol,self.number)\n",
    "hyderogen = Element('Hyderogen','H',1)\n",
    "hyderogen.dump()\n",
    "        "
   ]
  },
  {
   "cell_type": "markdown",
   "id": "9cff7076",
   "metadata": {},
   "source": [
    "Q7. Call print(hydrogen). In the definition of Element, change the name of method dump to __str__, create a new hydrogen object, and call print(hydrogen) again."
   ]
  },
  {
   "cell_type": "code",
   "execution_count": 26,
   "id": "114c558d",
   "metadata": {},
   "outputs": [
    {
     "name": "stdout",
     "output_type": "stream",
     "text": [
      "<__main__.Element object at 0x000001FA7421F850>\n",
      "Hyderogen H 1\n"
     ]
    }
   ],
   "source": [
    "#Ans:-\n",
    "print(hyderogen)\n",
    "class Element:\n",
    "    def __init__(self,name,symbol,number):\n",
    "        self.name = name\n",
    "        self.symbol = symbol\n",
    "        self.number = number\n",
    "    def __str__(self):\n",
    "        return f'{self.name} {self.symbol} {self.number}'\n",
    "        \n",
    "        \n",
    "Hyderogen = Element('Hyderogen','H',1)\n",
    "print(Hyderogen)"
   ]
  },
  {
   "cell_type": "markdown",
   "id": "0ec878d0",
   "metadata": {},
   "source": [
    "Q8. Modify Element to make the attributes name, symbol, and number private. Define a getter property for each to return its value."
   ]
  },
  {
   "cell_type": "code",
   "execution_count": 28,
   "id": "4f39cfa8",
   "metadata": {},
   "outputs": [
    {
     "name": "stdout",
     "output_type": "stream",
     "text": [
      "Hyderogen\n",
      "H\n",
      "1\n"
     ]
    }
   ],
   "source": [
    "#Ans:-\n",
    "class Element:\n",
    "    def __init__(self,name,symbol,number):\n",
    "        self.__name = name \n",
    "        self.__symbol = symbol\n",
    "        self.__number = number\n",
    "    @property\n",
    "    def get_name(self):\n",
    "        return self.__name\n",
    "    @property\n",
    "    def get_symbol(self):\n",
    "        return self.__symbol\n",
    "    @property\n",
    "    def get_number(self):\n",
    "        return self.__number\n",
    "    \n",
    "hyderogen = Element('Hyderogen','H',1)\n",
    "print(hyderogen.get_name)\n",
    "print(hyderogen.get_symbol)\n",
    "print(hyderogen.get_number)"
   ]
  },
  {
   "cell_type": "markdown",
   "id": "8069d16c",
   "metadata": {},
   "source": [
    "Q9. Define three classes: Bear, Rabbit, and Octothorpe. For each, define only one method: eats(). This should return 'berries' (Bear), 'clover' (Rabbit), or 'campers' (Octothorpe). Create one object from each and print what it eats."
   ]
  },
  {
   "cell_type": "code",
   "execution_count": 31,
   "id": "6fa8d4fd",
   "metadata": {},
   "outputs": [
    {
     "name": "stdout",
     "output_type": "stream",
     "text": [
      "berries\n",
      "clover\n",
      "campers\n"
     ]
    }
   ],
   "source": [
    "#Ans:-\n",
    "class Bear:\n",
    "    def eats(self):\n",
    "        return ('berries')\n",
    "class Rabbit:\n",
    "    def eats(self):\n",
    "        return ('clover')\n",
    "class Octothorpe:\n",
    "    def eats(self):\n",
    "        return 'campers'\n",
    "bear = Bear()\n",
    "rabbit = Rabbit()\n",
    "octothorpe = Octothorpe()\n",
    "print(bear.eats())\n",
    "print(rabbit.eats())\n",
    "print(octothorpe.eats())"
   ]
  },
  {
   "cell_type": "markdown",
   "id": "bb497a09",
   "metadata": {},
   "source": [
    "Q10. Define these classes: Laser, Claw, and SmartPhone. Each has only one method: does(). This returns 'disintegrate' (Laser), 'crush' (Claw), or 'ring' (SmartPhone). Then, define the class Robot that has one instance (object) of each of these. Define a does() method for the Robot that prints what its component objects do."
   ]
  },
  {
   "cell_type": "code",
   "execution_count": 34,
   "id": "3e5733e6",
   "metadata": {},
   "outputs": [
    {
     "name": "stdout",
     "output_type": "stream",
     "text": [
      "disintegrate crush ring\n"
     ]
    }
   ],
   "source": [
    "#Ans:-\n",
    "class Laser:\n",
    "    def does(self):\n",
    "        return 'disintegrate'\n",
    "class Claw:\n",
    "    def does(self):\n",
    "        return 'crush'\n",
    "class SmartPhone:\n",
    "    def does(self):\n",
    "        return 'ring'\n",
    "    \n",
    "class Robot:\n",
    "    def __init__(self):\n",
    "        self.laser = Laser()\n",
    "        self.claw = Claw()\n",
    "        self.smartphone = SmartPhone()\n",
    "    def does(self):\n",
    "        print(self.laser.does(),self.claw.does(),self.smartphone.does())\n",
    "r2d2 =Robot()\n",
    "r2d2.does()\n",
    "        "
   ]
  }
 ],
 "metadata": {
  "kernelspec": {
   "display_name": "Python 3 (ipykernel)",
   "language": "python",
   "name": "python3"
  },
  "language_info": {
   "codemirror_mode": {
    "name": "ipython",
    "version": 3
   },
   "file_extension": ".py",
   "mimetype": "text/x-python",
   "name": "python",
   "nbconvert_exporter": "python",
   "pygments_lexer": "ipython3",
   "version": "3.9.7"
  }
 },
 "nbformat": 4,
 "nbformat_minor": 5
}
