{
 "cells": [
  {
   "cell_type": "markdown",
   "id": "03fee9e6",
   "metadata": {},
   "source": [
    "# Assignment__02"
   ]
  },
  {
   "cell_type": "raw",
   "id": "fc5db814",
   "metadata": {},
   "source": [
    "Q1. What are the two values of the Boolean data type? How do you write them?"
   ]
  },
  {
   "cell_type": "code",
   "execution_count": null,
   "id": "bd0129aa",
   "metadata": {},
   "outputs": [],
   "source": [
    "Ans:-\n",
    "True and False are the two values of the bollean data type,we can write T and F in capital remaining in lower\n"
   ]
  },
  {
   "cell_type": "code",
   "execution_count": 1,
   "id": "2eed5d70",
   "metadata": {},
   "outputs": [
    {
     "name": "stdout",
     "output_type": "stream",
     "text": [
      "<class 'bool'>\n",
      "<class 'bool'>\n"
     ]
    }
   ],
   "source": [
    "print(type(True))\n",
    "print(type(False))"
   ]
  },
  {
   "cell_type": "raw",
   "id": "6731c318",
   "metadata": {},
   "source": [
    "Q 2. What are the three different types of Boolean operators?"
   ]
  },
  {
   "cell_type": "code",
   "execution_count": null,
   "id": "034bf5eb",
   "metadata": {},
   "outputs": [],
   "source": [
    "Ans:-\n",
    "AND ,OR and NOT are the three different types of boolean operators"
   ]
  },
  {
   "cell_type": "code",
   "execution_count": 8,
   "id": "64518788",
   "metadata": {},
   "outputs": [
    {
     "name": "stdout",
     "output_type": "stream",
     "text": [
      "<class 'bool'>\n",
      "<class 'bool'>\n",
      "<class 'bool'>\n"
     ]
    }
   ],
   "source": [
    "x = 45\n",
    "y = 50\n",
    "print(type(x==y and x>y))\n",
    "print(type(y>x or y==x))\n",
    "print(type(not(x==y)))"
   ]
  },
  {
   "cell_type": "raw",
   "id": "4b4f3a61",
   "metadata": {},
   "source": [
    "Q 3. Make a list of each Boolean operator's truth tables (i.e. every possible combination of Boolean\n",
    "values for the operator and what it evaluate )."
   ]
  },
  {
   "cell_type": "code",
   "execution_count": null,
   "id": "ab933ab3",
   "metadata": {},
   "outputs": [],
   "source": [
    "Ans:-\n",
    "Truth table of boolean operator\n",
    "\n",
    "AND operator :-\n",
    "True and True = True\n",
    "True and False = False\n",
    "False and True = False\n",
    "False and False = False\n",
    "\n",
    "OR operator :-\n",
    "True or True = True\n",
    "True or Flase = True\n",
    "False or True =True\n",
    "False or False = False\n",
    "\n",
    "Not operator :-\n",
    "False not is True\n",
    "True not is False\n"
   ]
  },
  {
   "cell_type": "raw",
   "id": "853f1c86",
   "metadata": {},
   "source": [
    "Q 4. What are the values of the following expressions?\n",
    "(5 > 4) and (3 == 5)\n",
    "not (5 > 4)\n",
    "(5 > 4) or (3 == 5)\n",
    "not ((5 >4) or (3 == 5))\n",
    "(True and True) and (True == False)\n",
    "(not False) or (not True)"
   ]
  },
  {
   "cell_type": "code",
   "execution_count": null,
   "id": "dee9407c",
   "metadata": {},
   "outputs": [],
   "source": [
    "Ans:-"
   ]
  },
  {
   "cell_type": "code",
   "execution_count": 9,
   "id": "4f67e512",
   "metadata": {},
   "outputs": [
    {
     "name": "stdout",
     "output_type": "stream",
     "text": [
      "False\n",
      "False\n",
      "True\n",
      "False\n",
      "False\n",
      "True\n"
     ]
    }
   ],
   "source": [
    "print((5>4) and (3==5))  # ==> False\n",
    "print(not(5>4))  #  ==> Flase\n",
    "print((5>4) or (3==4)) # ==> True\n",
    "print(not((5>4) or (3==5))) #==> false\n",
    "print((True and True) and (True == False)) # false\n",
    "print((not False) or (not True))   # true"
   ]
  },
  {
   "cell_type": "markdown",
   "id": "df47481b",
   "metadata": {},
   "source": [
    "Q 5. What are the six comparison operators?"
   ]
  },
  {
   "cell_type": "code",
   "execution_count": null,
   "id": "ecff6c8c",
   "metadata": {},
   "outputs": [],
   "source": [
    "Ans:-\n",
    "six comparision operators\n",
    "==   equal \n",
    "!=   not equal\n",
    ">  graterthan\n",
    "< lessthan, \n",
    "<= lessthan equal to\n",
    ">=  greaterthan equal to"
   ]
  },
  {
   "cell_type": "markdown",
   "id": "3f25ac61",
   "metadata": {},
   "source": [
    "Q 6. How do you tell the difference between the equal to and assignment operators?Describe a\n",
    "condition and when you would use one."
   ]
  },
  {
   "cell_type": "code",
   "execution_count": null,
   "id": "356da270",
   "metadata": {},
   "outputs": [],
   "source": [
    "Ans:-\n",
    "equal to is ==\n",
    "assignment operator is ="
   ]
  },
  {
   "cell_type": "code",
   "execution_count": 10,
   "id": "5c04bb86",
   "metadata": {},
   "outputs": [
    {
     "name": "stdout",
     "output_type": "stream",
     "text": [
      "False\n"
     ]
    }
   ],
   "source": [
    "# we are asigning a value\n",
    "mango = 100  \n",
    "banna =200\n",
    "\n",
    "# we are comparing two variables\n",
    "print(mango == banna)"
   ]
  },
  {
   "cell_type": "markdown",
   "id": "2560e318",
   "metadata": {},
   "source": [
    "Q 7. Identify the three blocks in this code:\n",
    "spam = 0\n",
    "if spam == 10:\n",
    "    print('eggs')\n",
    "if spam > 5:\n",
    "    print('bacom')\n",
    "else:\n",
    "    print('ham')\n",
    "    print('spam')\n",
    "    print('spam')"
   ]
  },
  {
   "cell_type": "code",
   "execution_count": 11,
   "id": "0d918003",
   "metadata": {},
   "outputs": [
    {
     "name": "stdout",
     "output_type": "stream",
     "text": [
      "ham\n",
      "spam\n",
      "spam\n"
     ]
    }
   ],
   "source": [
    "Ans:-\n",
    "spam = 0\n",
    "if spam == 10:   # 1.block\n",
    "    print('eggs')\n",
    "    if spam > 5:     # 2.block\n",
    "        print('bacom')\n",
    "else:            # 3.block\n",
    "    print('ham')\n",
    "    print('spam')\n",
    "    print('spam')"
   ]
  },
  {
   "cell_type": "markdown",
   "id": "4396028d",
   "metadata": {},
   "source": [
    "Q 8. Write code that prints Hello if 1 is stored in spam, prints Howdy if 2 is stored in spam, and prints\n",
    "Greetings! if anything else is stored in spam."
   ]
  },
  {
   "cell_type": "code",
   "execution_count": 3,
   "id": "b3ab08a8",
   "metadata": {},
   "outputs": [
    {
     "name": "stdout",
     "output_type": "stream",
     "text": [
      "hello\n",
      "Howdy\n"
     ]
    }
   ],
   "source": [
    "Ans:-\n",
    "def spamcode(spam):\n",
    "\n",
    "    if spam == 1:\n",
    "        print(\"hello\")\n",
    "    elif spam == 2:\n",
    "        print(\"Howdy\")\n",
    "    else :\n",
    "        print('Greetings!')\n",
    "spamcode(1)\n",
    "spamcode(2)"
   ]
  },
  {
   "cell_type": "markdown",
   "id": "86799224",
   "metadata": {},
   "source": [
    "Q 9.If your programme is stuck in an endless loop, what keys you’ll press?"
   ]
  },
  {
   "cell_type": "code",
   "execution_count": null,
   "id": "026d649d",
   "metadata": {},
   "outputs": [],
   "source": [
    "Ans:-\n",
    "i will press ctrl-c to stop a program stuck in an endless loop"
   ]
  },
  {
   "cell_type": "markdown",
   "id": "a03d788d",
   "metadata": {},
   "source": [
    "Q 10. How can you tell the difference between break and continue?"
   ]
  },
  {
   "cell_type": "code",
   "execution_count": null,
   "id": "b6e976f6",
   "metadata": {},
   "outputs": [],
   "source": [
    "Ans:-\n",
    "break :- is used to terminate the loop \n",
    "continue :- used to skip the particular value "
   ]
  },
  {
   "cell_type": "markdown",
   "id": "011c66bb",
   "metadata": {},
   "source": [
    "Q 11. In a for loop, what is the difference between range(10), range(0, 10), and range(0, 10, 1)?"
   ]
  },
  {
   "cell_type": "code",
   "execution_count": 25,
   "id": "ff6e14af",
   "metadata": {},
   "outputs": [
    {
     "data": {
      "text/plain": [
       "range(0, 10)"
      ]
     },
     "execution_count": 25,
     "metadata": {},
     "output_type": "execute_result"
    }
   ],
   "source": [
    "Ans:-\n",
    "range(10) \n",
    "# used to print the starting 0 to end value 10"
   ]
  },
  {
   "cell_type": "code",
   "execution_count": 16,
   "id": "86337e28",
   "metadata": {},
   "outputs": [
    {
     "data": {
      "text/plain": [
       "range(0, 10)"
      ]
     },
     "execution_count": 16,
     "metadata": {},
     "output_type": "execute_result"
    }
   ],
   "source": [
    "range(0,10)\n",
    "# used to print the starting value 0 and end vlue 10"
   ]
  },
  {
   "cell_type": "code",
   "execution_count": 17,
   "id": "12c1e101",
   "metadata": {},
   "outputs": [
    {
     "data": {
      "text/plain": [
       "range(0, 10)"
      ]
     },
     "execution_count": 17,
     "metadata": {},
     "output_type": "execute_result"
    }
   ],
   "source": [
    "range(0,10,1)\n",
    "# we are given starting value ,end value and step value"
   ]
  },
  {
   "cell_type": "markdown",
   "id": "6bcbc08c",
   "metadata": {},
   "source": [
    "Q 12. Write a short program that prints the numbers 1 to 10 using a for loop. Then write an equivalent\n",
    "program that prints the numbers 1 to 10 using a while loop."
   ]
  },
  {
   "cell_type": "code",
   "execution_count": 22,
   "id": "4c5fca3b",
   "metadata": {},
   "outputs": [
    {
     "name": "stdout",
     "output_type": "stream",
     "text": [
      "1 2 3 4 5 6 7 8 9 10 "
     ]
    }
   ],
   "source": [
    "Ans:-\n",
    "# using for loop\n",
    "for i in range(1,11):\n",
    "    print(i,end=\" \")"
   ]
  },
  {
   "cell_type": "code",
   "execution_count": 24,
   "id": "53e79784",
   "metadata": {},
   "outputs": [
    {
     "name": "stdout",
     "output_type": "stream",
     "text": [
      "1 2 3 4 5 6 7 8 9 10 "
     ]
    }
   ],
   "source": [
    "# using while loop\n",
    "a=0\n",
    "b=10\n",
    "while b>a:\n",
    "    a=a+1\n",
    "    print(a,end=\" \")"
   ]
  },
  {
   "cell_type": "markdown",
   "id": "d9046b14",
   "metadata": {},
   "source": [
    "Q 13. If you had a function named bacon() inside a module named spam, how would you call it after\n",
    "importing spam?"
   ]
  },
  {
   "cell_type": "code",
   "execution_count": null,
   "id": "43a67792",
   "metadata": {},
   "outputs": [],
   "source": [
    "Ans:-\n",
    "call this function with spam.bacon()\n",
    "    "
   ]
  }
 ],
 "metadata": {
  "kernelspec": {
   "display_name": "Python 3 (ipykernel)",
   "language": "python",
   "name": "python3"
  },
  "language_info": {
   "codemirror_mode": {
    "name": "ipython",
    "version": 3
   },
   "file_extension": ".py",
   "mimetype": "text/x-python",
   "name": "python",
   "nbconvert_exporter": "python",
   "pygments_lexer": "ipython3",
   "version": "3.9.7"
  }
 },
 "nbformat": 4,
 "nbformat_minor": 5
}
