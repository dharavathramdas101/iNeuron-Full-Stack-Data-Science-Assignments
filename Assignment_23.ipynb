{
 "cells": [
  {
   "cell_type": "markdown",
   "id": "15476493",
   "metadata": {},
   "source": [
    "# iNeuron Assignment_23"
   ]
  },
  {
   "cell_type": "markdown",
   "id": "6b6026eb",
   "metadata": {},
   "source": [
    "### Q1. What is the result of the code, and why?\n",
    "    >>> def func(a, b=6, c=8):\n",
    "    print(a, b, c)\n",
    "    >>> func(1, 2)"
   ]
  },
  {
   "cell_type": "markdown",
   "id": "585a9d80",
   "metadata": {},
   "source": [
    "Ans:\n",
    "    the result of the above code is 1 , 2, 8, because the function uses the default vlaue of c ie 8 which is provided at the time of declaration"
   ]
  },
  {
   "cell_type": "code",
   "execution_count": 1,
   "id": "614a1098",
   "metadata": {},
   "outputs": [
    {
     "name": "stdout",
     "output_type": "stream",
     "text": [
      "1 2 8\n"
     ]
    }
   ],
   "source": [
    "def func(a, b=6, c=8):\n",
    "    print(a, b, c)\n",
    "func(1, 2)"
   ]
  },
  {
   "cell_type": "markdown",
   "id": "a3c78971",
   "metadata": {},
   "source": [
    "### Q2. What is the result of this code, and why?\n",
    "    >>> def func(a, b, c=5):\n",
    "    print(a, b, c)\n",
    "    >>> func(1, c=3, b=2)"
   ]
  },
  {
   "cell_type": "markdown",
   "id": "7b1bf7a2",
   "metadata": {},
   "source": [
    "Ans:\n",
    "    the result of the above code is 1, 2, 3 , because the function will use default value only when a value for a argument is not provided and if argument name is mentioned while doing a function call, the order of arguments is also ignored by the python interpreter"
   ]
  },
  {
   "cell_type": "code",
   "execution_count": 2,
   "id": "82033067",
   "metadata": {},
   "outputs": [
    {
     "name": "stdout",
     "output_type": "stream",
     "text": [
      "1 2 3\n"
     ]
    }
   ],
   "source": [
    "def func(a,b,c=5):\n",
    "    print(a,b,c)\n",
    "func(1,c=3,b=2)"
   ]
  },
  {
   "cell_type": "markdown",
   "id": "b15b4ae8",
   "metadata": {},
   "source": [
    "### Q3. How about this code: what is its result, and why?\n",
    "    >>> def func(a, *pargs):\n",
    "    print(a, pargs)\n",
    "    >>> func(1, 2, 3)"
   ]
  },
  {
   "cell_type": "markdown",
   "id": "eb1c6183",
   "metadata": {},
   "source": [
    "Ans:\n",
    "    the result of the code is 1 (2,3) . *pargs stands for variable length arguments. this fromat is used when we are not sure about the no of arguments to be passed to a function. all the value under this arguments will be stored in a tuple"
   ]
  },
  {
   "cell_type": "code",
   "execution_count": 3,
   "id": "966d6a24",
   "metadata": {},
   "outputs": [
    {
     "name": "stdout",
     "output_type": "stream",
     "text": [
      "1 (2, 3)\n"
     ]
    }
   ],
   "source": [
    "def func(a,*pargs):\n",
    "    print(a,pargs)\n",
    "func(1,2,3)"
   ]
  },
  {
   "cell_type": "markdown",
   "id": "70729193",
   "metadata": {},
   "source": [
    "### Q4. What does this code print, and why?\n",
    "    >>> def func(a, **kargs):\n",
    "    print(a, kargs)\n",
    "    >>> func(a=1, c=3, b=2)"
   ]
  },
  {
   "cell_type": "markdown",
   "id": "23e14832",
   "metadata": {},
   "source": [
    "Ans:\n",
    "    the result of the above code is 1 {'c':3,'b':2} , **kargs stands for variable lenght keyword arguments. this format is used when we want pass key value pairs as input to a function. all these key value pairs will be stored in a dictionary"
   ]
  },
  {
   "cell_type": "code",
   "execution_count": 5,
   "id": "83f8cb41",
   "metadata": {},
   "outputs": [
    {
     "name": "stdout",
     "output_type": "stream",
     "text": [
      "1 {'c': 3, 'b': 2}\n"
     ]
    }
   ],
   "source": [
    "def func(a,**kargs):\n",
    "    print(a,kargs)\n",
    "func(a=1,c=3,b=2)"
   ]
  },
  {
   "cell_type": "markdown",
   "id": "3945a046",
   "metadata": {},
   "source": [
    "### Q5. What gets printed by this, and explain?\n",
    "    def func(a, b, c=8, d=5): \n",
    "    print(a, b, c, d)\n",
    "    func(1, *(5, 6))"
   ]
  },
  {
   "cell_type": "markdown",
   "id": "6791c3d3",
   "metadata": {},
   "source": [
    "Ans:\n",
    "    the output of the above is 1 5 6 5 , this reason for this function throwing an error is because, this functionexpects 4 arguments. the value for a is provided explicitly whereas for arguments b and c, the function will expand the *(5,6) and consider the value of b as 5 and value of c as 6. since the default value of d is provided in function declaration da value will be 5. however it is recommended to use the feature of positional arguments at the end"
   ]
  },
  {
   "cell_type": "code",
   "execution_count": 7,
   "id": "390988d6",
   "metadata": {},
   "outputs": [
    {
     "name": "stdout",
     "output_type": "stream",
     "text": [
      "1 5 6 5\n"
     ]
    }
   ],
   "source": [
    "def func(a,b,c=8,d=5):\n",
    "    print(a,b,c,d)\n",
    "func(1,*(5,6))"
   ]
  },
  {
   "cell_type": "markdown",
   "id": "1a6bbd5c",
   "metadata": {},
   "source": [
    "### Q6. what is the result of this, and explain?\n",
    "    def func(a, b, c): a = 2; b[0] = 'x'; c['a'] = 'y'\n",
    "    l=1; m=[1]; n={'a':0}\n",
    "    func(l, m, n)\n",
    "    l, m, n"
   ]
  },
  {
   "cell_type": "markdown",
   "id": "595c4753",
   "metadata": {},
   "source": [
    "Ans:\n",
    "    the output of above code is 1,['X'], {'a','y'},\n",
    "    \n",
    "    1.eventhrough python gives importance to indendation. its provides a facility to declare an entire function in one single line.where statement in a function body are seperated by ;\n",
    "    2.when l,m,n are provided as input to the function . its modifies the valuse of l,m,n and sets the value of l=2, m=['X'], and n={'a':'y'}"
   ]
  },
  {
   "cell_type": "code",
   "execution_count": 8,
   "id": "e6993e16",
   "metadata": {},
   "outputs": [
    {
     "data": {
      "text/plain": [
       "(1, ['x'], {'a': 'y'})"
      ]
     },
     "execution_count": 8,
     "metadata": {},
     "output_type": "execute_result"
    }
   ],
   "source": [
    "def func(a, b, c): a = 2; b[0] = 'x'; c['a'] = 'y'\n",
    "l=1; m=[1]; n={'a':0}\n",
    "func(l, m, n)\n",
    "l,m,n"
   ]
  }
 ],
 "metadata": {
  "kernelspec": {
   "display_name": "Python 3 (ipykernel)",
   "language": "python",
   "name": "python3"
  },
  "language_info": {
   "codemirror_mode": {
    "name": "ipython",
    "version": 3
   },
   "file_extension": ".py",
   "mimetype": "text/x-python",
   "name": "python",
   "nbconvert_exporter": "python",
   "pygments_lexer": "ipython3",
   "version": "3.9.7"
  }
 },
 "nbformat": 4,
 "nbformat_minor": 5
}
