{
 "cells": [
  {
   "cell_type": "markdown",
   "id": "977f0048",
   "metadata": {},
   "source": [
    "# Assignment_03"
   ]
  },
  {
   "cell_type": "markdown",
   "id": "1b1555da",
   "metadata": {},
   "source": [
    "Q 1. Why are functions advantageous to have in your programs?"
   ]
  },
  {
   "cell_type": "code",
   "execution_count": null,
   "id": "43e3a5c1",
   "metadata": {},
   "outputs": [],
   "source": [
    "Ans:- \n",
    "reusability of code ,we can use function to reuse the code again and again,information hiding, improving clarity of the code"
   ]
  },
  {
   "cell_type": "markdown",
   "id": "89e72239",
   "metadata": {},
   "source": [
    "Q 2. When does the code in a function run: when its specified or when its called?"
   ]
  },
  {
   "cell_type": "code",
   "execution_count": null,
   "id": "a391813f",
   "metadata": {},
   "outputs": [],
   "source": [
    "Ans:-\n",
    "when we call the function then run the function\n",
    "first we need to create the function by using the def key word \n",
    "example :-  def function():  # define the function\n",
    "          \n",
    "            function()  # call the function"
   ]
  },
  {
   "cell_type": "markdown",
   "id": "23d39331",
   "metadata": {},
   "source": [
    "Q 3. What statement creates a function?"
   ]
  },
  {
   "cell_type": "code",
   "execution_count": null,
   "id": "81e9f52d",
   "metadata": {},
   "outputs": [],
   "source": [
    "Ans:-\n",
    "def statement we can create function\n",
    " # example  "
   ]
  },
  {
   "cell_type": "code",
   "execution_count": 1,
   "id": "364fa56c",
   "metadata": {},
   "outputs": [
    {
     "data": {
      "text/plain": [
       "'22'"
      ]
     },
     "execution_count": 1,
     "metadata": {},
     "output_type": "execute_result"
    }
   ],
   "source": [
    "def function_name(a):\n",
    "    return str(a)\n",
    "function_name(22)"
   ]
  },
  {
   "cell_type": "markdown",
   "id": "22a4cb5d",
   "metadata": {},
   "source": [
    "Q 4. What is the difference between a function and a function call?"
   ]
  },
  {
   "cell_type": "code",
   "execution_count": null,
   "id": "34b50694",
   "metadata": {},
   "outputs": [],
   "source": [
    "Ans:-\n",
    "Function :- function is a name given to block of code \n",
    "Function call :- after the function define we can call the function then run inside the code ,after the function call the entire code inthe function will execute"
   ]
  },
  {
   "cell_type": "markdown",
   "id": "f2b9a0da",
   "metadata": {},
   "source": [
    "Q 5. How many global scopes are there in a Python program? How many local scopes?"
   ]
  },
  {
   "cell_type": "code",
   "execution_count": null,
   "id": "290d53a3",
   "metadata": {},
   "outputs": [],
   "source": [
    "Ans:-\n",
    "only one global scope and only one local scope in python\n",
    "global scope:- we can define outside the function \n",
    "local scope:- we can define inside the function"
   ]
  },
  {
   "cell_type": "markdown",
   "id": "4771e7ee",
   "metadata": {},
   "source": [
    "Q 6. What happens to variables in a local scope when the function call returns?"
   ]
  },
  {
   "cell_type": "code",
   "execution_count": null,
   "id": "6296de17",
   "metadata": {},
   "outputs": [],
   "source": [
    "Ans:-\n",
    "local scope: it is a local variable we can define inside the function ,we can call inside only ,we can't call outside the function "
   ]
  },
  {
   "cell_type": "code",
   "execution_count": 4,
   "id": "49b74b28",
   "metadata": {},
   "outputs": [
    {
     "data": {
      "text/plain": [
       "13"
      ]
     },
     "execution_count": 4,
     "metadata": {},
     "output_type": "execute_result"
    }
   ],
   "source": [
    "def add():\n",
    "    a=10 +3\n",
    "    return a\n",
    "add()"
   ]
  },
  {
   "cell_type": "markdown",
   "id": "76670105",
   "metadata": {},
   "source": [
    "Q 7. What is the concept of a return value? Is it possible to have a return value in an expression?"
   ]
  },
  {
   "cell_type": "code",
   "execution_count": null,
   "id": "1bb52e92",
   "metadata": {},
   "outputs": [],
   "source": [
    "Ans:-\n",
    "return is used to return data type in function"
   ]
  },
  {
   "cell_type": "code",
   "execution_count": 7,
   "id": "50710d73",
   "metadata": {},
   "outputs": [
    {
     "name": "stdout",
     "output_type": "stream",
     "text": [
      "6\n"
     ]
    },
    {
     "data": {
      "text/plain": [
       "NoneType"
      ]
     },
     "execution_count": 7,
     "metadata": {},
     "output_type": "execute_result"
    }
   ],
   "source": [
    "def mult(a,b):\n",
    "    c=a*b\n",
    "    print(c)\n",
    "type(mult(2,3))"
   ]
  },
  {
   "cell_type": "code",
   "execution_count": 8,
   "id": "3353cfb2",
   "metadata": {},
   "outputs": [
    {
     "data": {
      "text/plain": [
       "int"
      ]
     },
     "execution_count": 8,
     "metadata": {},
     "output_type": "execute_result"
    }
   ],
   "source": [
    "def mult1(a,b):\n",
    "    d=a*b\n",
    "    return d\n",
    "type(mult1(2,5))"
   ]
  },
  {
   "cell_type": "markdown",
   "id": "a54521d1",
   "metadata": {},
   "source": [
    "Q 8. If a function does not have a return statement, what is the return value of a call to that function?"
   ]
  },
  {
   "cell_type": "code",
   "execution_count": null,
   "id": "7f4a2e4a",
   "metadata": {},
   "outputs": [],
   "source": [
    "Ans:-\n",
    "    return None type if a function does not have a return statement"
   ]
  },
  {
   "cell_type": "markdown",
   "id": "33073bf8",
   "metadata": {},
   "source": [
    "Q9. How do you make a function variable refer to the global variable?"
   ]
  },
  {
   "cell_type": "code",
   "execution_count": null,
   "id": "99dde313",
   "metadata": {},
   "outputs": [],
   "source": [
    "Ans:-\n",
    "    we can use global keyword to refer local variable to global variable"
   ]
  },
  {
   "cell_type": "code",
   "execution_count": 11,
   "id": "bd8246bc",
   "metadata": {},
   "outputs": [
    {
     "data": {
      "text/plain": [
       "145"
      ]
     },
     "execution_count": 11,
     "metadata": {},
     "output_type": "execute_result"
    }
   ],
   "source": [
    "# Example\n",
    "def sub(a,b):\n",
    "    global c\n",
    "    c=a-b\n",
    "    return c\n",
    "sub(200,55)"
   ]
  },
  {
   "cell_type": "code",
   "execution_count": 12,
   "id": "2fb331c3",
   "metadata": {},
   "outputs": [
    {
     "name": "stdout",
     "output_type": "stream",
     "text": [
      "145\n"
     ]
    }
   ],
   "source": [
    "print(c)"
   ]
  },
  {
   "cell_type": "markdown",
   "id": "316f0136",
   "metadata": {},
   "source": [
    "Q 10. What is the data type of None?"
   ]
  },
  {
   "cell_type": "code",
   "execution_count": null,
   "id": "b0fbdc19",
   "metadata": {},
   "outputs": [],
   "source": [
    "Ans:-\n",
    "    None is keyword ,None is define a null value means no value only None"
   ]
  },
  {
   "cell_type": "code",
   "execution_count": 13,
   "id": "2892a96c",
   "metadata": {},
   "outputs": [
    {
     "name": "stdout",
     "output_type": "stream",
     "text": [
      "None\n"
     ]
    }
   ],
   "source": [
    "print(None)"
   ]
  },
  {
   "cell_type": "markdown",
   "id": "dc2d77fa",
   "metadata": {},
   "source": [
    "Q 11. What does the sentence import areallyourpetsnamederic do?"
   ]
  },
  {
   "cell_type": "code",
   "execution_count": 18,
   "id": "5d2fbfc1",
   "metadata": {},
   "outputs": [],
   "source": [
    "Ans:-\n",
    "    import is used to import the module name areallyourpetsnamederic"
   ]
  },
  {
   "cell_type": "markdown",
   "id": "7cd68ba8",
   "metadata": {},
   "source": [
    "Q 12. If you had a bacon() feature in a spam module, what would you call it after importing spam?"
   ]
  },
  {
   "cell_type": "code",
   "execution_count": null,
   "id": "2d9b4716",
   "metadata": {},
   "outputs": [],
   "source": [
    "Ans:-  we can call spam.bacon()"
   ]
  },
  {
   "cell_type": "markdown",
   "id": "0e63f277",
   "metadata": {},
   "source": [
    "Q 13. What can you do to save a programme from crashing if it encounters an error?"
   ]
  },
  {
   "cell_type": "code",
   "execution_count": null,
   "id": "c4a1c3f3",
   "metadata": {},
   "outputs": [],
   "source": [
    "Ans:-\n",
    "    when it encounters an error the code in try is passed to the except block to handle the block"
   ]
  },
  {
   "cell_type": "markdown",
   "id": "75038daf",
   "metadata": {},
   "source": [
    "Q 14. What is the purpose of the try clause? What is the purpose of the except clause?"
   ]
  },
  {
   "cell_type": "code",
   "execution_count": null,
   "id": "92d7fe9b",
   "metadata": {},
   "outputs": [],
   "source": [
    "Ans:- try: try is used to test a block of code for errors\n",
    "    except : except block is used to handle the the errors \n",
    "    example"
   ]
  },
  {
   "cell_type": "code",
   "execution_count": 17,
   "id": "f783376c",
   "metadata": {},
   "outputs": [
    {
     "name": "stdout",
     "output_type": "stream",
     "text": [
      "division by zero\n"
     ]
    }
   ],
   "source": [
    "try :\n",
    "    a=4\n",
    "    b=0\n",
    "    c= a/b\n",
    "except Exception as e:\n",
    "    print(e)"
   ]
  },
  {
   "cell_type": "code",
   "execution_count": null,
   "id": "3642dcfc",
   "metadata": {},
   "outputs": [],
   "source": []
  }
 ],
 "metadata": {
  "kernelspec": {
   "display_name": "Python 3 (ipykernel)",
   "language": "python",
   "name": "python3"
  },
  "language_info": {
   "codemirror_mode": {
    "name": "ipython",
    "version": 3
   },
   "file_extension": ".py",
   "mimetype": "text/x-python",
   "name": "python",
   "nbconvert_exporter": "python",
   "pygments_lexer": "ipython3",
   "version": "3.9.7"
  }
 },
 "nbformat": 4,
 "nbformat_minor": 5
}
