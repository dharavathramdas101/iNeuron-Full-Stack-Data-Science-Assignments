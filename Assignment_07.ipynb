{
 "cells": [
  {
   "cell_type": "markdown",
   "id": "d79c9fb5",
   "metadata": {},
   "source": [
    "# Assignment_07"
   ]
  },
  {
   "cell_type": "markdown",
   "id": "9745cbcd",
   "metadata": {},
   "source": [
    "Q 1. What is the name of the feature responsible for generating Regex objects?"
   ]
  },
  {
   "cell_type": "code",
   "execution_count": 2,
   "id": "0a2c03b2",
   "metadata": {},
   "outputs": [
    {
     "name": "stdout",
     "output_type": "stream",
     "text": [
      "re.compile('well_come_to_iNeuron')\n"
     ]
    }
   ],
   "source": [
    "#Ans:-\n",
    "# the re.compile() function return Regex objects\n",
    "import re\n",
    "a = re.compile(\"well_come_to_iNeuron\")\n",
    "type(a)\n",
    "print(a)"
   ]
  },
  {
   "cell_type": "markdown",
   "id": "5eed047e",
   "metadata": {},
   "source": [
    "Q 2. Why do raw strings often appear in Regex objects?"
   ]
  },
  {
   "cell_type": "code",
   "execution_count": null,
   "id": "c409f4af",
   "metadata": {},
   "outputs": [],
   "source": [
    "#Ans:-\n",
    "raw strings are used so that backslashes do not to be escaped"
   ]
  },
  {
   "cell_type": "markdown",
   "id": "1fca528d",
   "metadata": {},
   "source": [
    "Q 3. What is the return value of the search() method?"
   ]
  },
  {
   "cell_type": "code",
   "execution_count": null,
   "id": "efaa31fe",
   "metadata": {},
   "outputs": [],
   "source": [
    "#Ans:-\n",
    "the re.serch() method takes two parameters and returns a match object if there ia match .if there is more than one match ,only the first occurence of the match will be returned .if no match are found ,the value None is returned\n",
    "return match object if there are any matches"
   ]
  },
  {
   "cell_type": "code",
   "execution_count": 4,
   "id": "84b73cf1",
   "metadata": {},
   "outputs": [
    {
     "name": "stdout",
     "output_type": "stream",
     "text": [
      "Output: <re.Match object; span=(13, 14), match='S'>\n"
     ]
    }
   ],
   "source": [
    "import re\n",
    "match = re.search('s','Ineuron Full Stack Data Science Program', flags=re.IGNORECASE)\n",
    "print('Output:',match)"
   ]
  },
  {
   "cell_type": "markdown",
   "id": "82d13887",
   "metadata": {},
   "source": [
    "Q 4. From a Match item, how do you get the actual strings that match the pattern?"
   ]
  },
  {
   "cell_type": "code",
   "execution_count": null,
   "id": "866ffe43",
   "metadata": {},
   "outputs": [],
   "source": [
    "#Ans:-\n",
    "for matched items group() methods return actual strings that match the pattern"
   ]
  },
  {
   "cell_type": "code",
   "execution_count": 6,
   "id": "5a260d5b",
   "metadata": {},
   "outputs": [
    {
     "name": "stdout",
     "output_type": "stream",
     "text": [
      "data\n"
     ]
    }
   ],
   "source": [
    "import re\n",
    "match = re.search('data',\"full stack data science\")\n",
    "print(match.group())"
   ]
  },
  {
   "cell_type": "code",
   "execution_count": 4,
   "id": "2f1be0ee",
   "metadata": {},
   "outputs": [
    {
     "data": {
      "text/plain": [
       "'full'"
      ]
     },
     "execution_count": 4,
     "metadata": {},
     "output_type": "execute_result"
    }
   ],
   "source": [
    "match1 = re.search('full',\"full stack data science\")\n",
    "match1.group()"
   ]
  },
  {
   "cell_type": "markdown",
   "id": "714abb6c",
   "metadata": {},
   "source": [
    "Q 5. In the regex which created from the r'(\\d\\d\\d)-(\\d\\d\\d-\\d\\d\\d\\d)', what does group zero cover? Group 2? Group 1?"
   ]
  },
  {
   "cell_type": "code",
   "execution_count": null,
   "id": "fb2e2e40",
   "metadata": {},
   "outputs": [],
   "source": [
    "#Ans:-\n",
    "the Regex r'(\\d\\d\\d)-(\\d\\d\\d-\\d\\d\\d\\d)' the zero group covers the entire pattern match where as the first group cover(\\d\\d\\d) and the second group cover (\\d\\d\\d-\\d\\d\\d\\d)"
   ]
  },
  {
   "cell_type": "code",
   "execution_count": 10,
   "id": "e129fdcb",
   "metadata": {},
   "outputs": [
    {
     "name": "stdout",
     "output_type": "stream",
     "text": [
      "545-666-3434\n",
      "545\n",
      "666-3434\n"
     ]
    }
   ],
   "source": [
    "import re\n",
    "phonenumberregex = re.compile(r'(\\d\\d\\d)-(\\d\\d\\d-\\d\\d\\d\\d)')\n",
    "mob = phonenumberregex.search('my number is 545-666-3434')\n",
    "print(mob.group())\n",
    "print(mob.group(1))\n",
    "print(mob.group(2))"
   ]
  },
  {
   "cell_type": "markdown",
   "id": "e860d20b",
   "metadata": {},
   "source": [
    "Q 6. In standard expression syntax, parentheses and intervals have distinct meanings. How can you tell a regex that you want it to fit real parentheses and periods?"
   ]
  },
  {
   "cell_type": "code",
   "execution_count": null,
   "id": "2ed2b99a",
   "metadata": {},
   "outputs": [],
   "source": [
    "#Ans:-\n",
    "periods and parantheses can be escaped with a blackslash: \\. , \\(and \\)"
   ]
  },
  {
   "cell_type": "code",
   "execution_count": 5,
   "id": "ec8c3316",
   "metadata": {},
   "outputs": [
    {
     "name": "stdout",
     "output_type": "stream",
     "text": [
      "(425) 666-4343\n"
     ]
    }
   ],
   "source": [
    "import re\n",
    "phonenum = re.compile(r'(\\(\\d\\d\\d\\)) (\\d\\d\\d-\\d\\d\\d\\d)')\n",
    "mo = phonenum.search(\"my phone number is (425) 666-4343\")\n",
    "print(mo.group())"
   ]
  },
  {
   "cell_type": "markdown",
   "id": "803dac6f",
   "metadata": {},
   "source": [
    "Q 7. The findall() method returns a string list or a list of string tuples. What causes it to return one of the two options?"
   ]
  },
  {
   "cell_type": "code",
   "execution_count": null,
   "id": "97ee5d59",
   "metadata": {},
   "outputs": [],
   "source": [
    "#Ans:-\n",
    "if the regex pattern has no groups alist of strings matched is returned .if the regex pattern has groups ,a list of tuple of strings is returned"
   ]
  },
  {
   "cell_type": "code",
   "execution_count": 49,
   "id": "42755bb2",
   "metadata": {},
   "outputs": [
    {
     "name": "stdout",
     "output_type": "stream",
     "text": [
      "[('(415)', '555-4242')]\n",
      "['415-555-4242']\n"
     ]
    }
   ],
   "source": [
    "import re\n",
    "phoneNumRegex = re.compile(r'(\\(\\d\\d\\d\\)) (\\d\\d\\d-\\d\\d\\d\\d)')\n",
    "mo = phoneNumRegex.findall('My phone number is (415) 555-4242.')\n",
    "print(mo)\n",
    "\n",
    "# Example Program\n",
    "import re\n",
    "phoneNumRegex = re.compile(r'\\d{3}-\\d{3}-\\d{4}')\n",
    "mo = phoneNumRegex.findall('My number is 415-555-4242.')\n",
    "print(mo) # Prints all groups in a tuple format"
   ]
  },
  {
   "cell_type": "markdown",
   "id": "830d1630",
   "metadata": {},
   "source": [
    "Q 8. In standard expressions, what does the | character mean?"
   ]
  },
  {
   "cell_type": "code",
   "execution_count": null,
   "id": "55db2eb0",
   "metadata": {},
   "outputs": [],
   "source": [
    "#Ans:-\n",
    "standard expressions | means OR operator"
   ]
  },
  {
   "cell_type": "markdown",
   "id": "20c43897",
   "metadata": {},
   "source": [
    "Q 9. In regular expressions, what does the ? character stand for?"
   ]
  },
  {
   "cell_type": "code",
   "execution_count": null,
   "id": "8a33b2e5",
   "metadata": {},
   "outputs": [],
   "source": [
    "#Ans:-\n",
    "in regular expression ,? character represents zero or one match of the preceeding group"
   ]
  },
  {
   "cell_type": "code",
   "execution_count": 22,
   "id": "7a0d1d94",
   "metadata": {},
   "outputs": [
    {
     "name": "stdout",
     "output_type": "stream",
     "text": [
      "<re.Match object; span=(10, 14), match='hulk'>\n",
      "<re.Match object; span=(11, 19), match='hulklady'>\n"
     ]
    }
   ],
   "source": [
    "import re \n",
    "match1 = re.search('hulk(lady)?',\"the great hulk\")\n",
    "print(match1)\n",
    "match2 = re.search(\"hulk(lady)?\",\"the greate hulklady\")\n",
    "print(match2)"
   ]
  },
  {
   "cell_type": "markdown",
   "id": "a249792f",
   "metadata": {},
   "source": [
    "Q 10.In regular expressions, what is the difference between the + and * characters?"
   ]
  },
  {
   "cell_type": "code",
   "execution_count": null,
   "id": "8a8ed091",
   "metadata": {},
   "outputs": [],
   "source": [
    "#Ans:-\n",
    "+ --> return zero or more occurence\n",
    "\n",
    "* --> return one or more occurence"
   ]
  },
  {
   "cell_type": "code",
   "execution_count": 30,
   "id": "96b2dbff",
   "metadata": {},
   "outputs": [
    {
     "name": "stdout",
     "output_type": "stream",
     "text": [
      "['ie', 'i', 'i', 'ie', 'i']\n"
     ]
    }
   ],
   "source": [
    "str1 = \"my friend is going to chaina on my flight\"\n",
    "str2 = \"friend in need is a friend in deed\"\n",
    "res = re.findall(\"ie*\",str2)\n",
    "print(res)"
   ]
  },
  {
   "cell_type": "code",
   "execution_count": 31,
   "id": "1d68c217",
   "metadata": {},
   "outputs": [
    {
     "name": "stdout",
     "output_type": "stream",
     "text": [
      "['ie', 'ie']\n"
     ]
    }
   ],
   "source": [
    "res1 = re.findall(\"ie+\",str2)\n",
    "print(res1)"
   ]
  },
  {
   "cell_type": "markdown",
   "id": "ab096a05",
   "metadata": {},
   "source": [
    "Q 11. What is the difference between {4} and {4,5} in regular expression?"
   ]
  },
  {
   "cell_type": "code",
   "execution_count": null,
   "id": "b01a1f43",
   "metadata": {},
   "outputs": [],
   "source": [
    "#Ans:-\n",
    "{4} means that its preceeding group should repeat 4 times ,where as {4,5} means that its preceeding group should repeat minimum 4 times and maximum 5 times inclusively\n"
   ]
  },
  {
   "cell_type": "code",
   "execution_count": 33,
   "id": "e6fd4ffc",
   "metadata": {},
   "outputs": [
    {
     "name": "stdout",
     "output_type": "stream",
     "text": [
      "hihihi\n",
      "None\n"
     ]
    }
   ],
   "source": [
    "import re \n",
    "hiregex = re.compile(r'(hi){3}')\n",
    "s1 = hiregex.search(\"hihihi\")\n",
    "s2 = hiregex.search(\"hi\")\n",
    "print(s1.group())\n",
    "print(s2)"
   ]
  },
  {
   "cell_type": "markdown",
   "id": "49e26322",
   "metadata": {},
   "source": [
    "Q 12. What do you mean by the \\d, \\w, and \\s shorthand character classes signify in regular expressions?"
   ]
  },
  {
   "cell_type": "code",
   "execution_count": null,
   "id": "b5fc2769",
   "metadata": {},
   "outputs": [],
   "source": [
    "#Ans:-\n",
    "\\d --> return if given string having digits(0-9)\n",
    "\\w --> return if given string having words characters(a-z,A-Z,0-9)\n",
    "\\s --> return if given string having spaces(space, tab, newline)"
   ]
  },
  {
   "cell_type": "markdown",
   "id": "be6d2676",
   "metadata": {},
   "source": [
    "Q 13. What do means by \\D, \\W, and \\S shorthand character classes signify in regular expressions?"
   ]
  },
  {
   "cell_type": "code",
   "execution_count": null,
   "id": "60aa61a8",
   "metadata": {},
   "outputs": [],
   "source": [
    "#Ans:-\n",
    "\\D --> return if given string having non-digit character ,this is wquivalent to the set class[^0-9]\n",
    "\\W --> return if given string having non-alphanumeric character equivalent to [^a-zA-Z0-9]\n",
    "\\S --> return if given string having any non-whitespace character"
   ]
  },
  {
   "cell_type": "markdown",
   "id": "bf600e8b",
   "metadata": {},
   "source": [
    "Q 14. What is the difference between .*? and .*?"
   ]
  },
  {
   "cell_type": "code",
   "execution_count": null,
   "id": "16f66209",
   "metadata": {},
   "outputs": [],
   "source": [
    "#Ans:-\n",
    ".* is a greedy mode ,which returns the longest string that meets the condition whereas\n",
    ".*? is a non greedy mode which returns the shortest string that meets the condition"
   ]
  },
  {
   "cell_type": "markdown",
   "id": "c2b87bb6",
   "metadata": {},
   "source": [
    "Q 15. What is the syntax for matching both numbers and lowercase letters with a character class?"
   ]
  },
  {
   "cell_type": "code",
   "execution_count": null,
   "id": "35dba758",
   "metadata": {},
   "outputs": [],
   "source": [
    "#Ans:-\n",
    "the syntax is either [a-z0-9] or [0-9a-z]"
   ]
  },
  {
   "cell_type": "markdown",
   "id": "02462d4e",
   "metadata": {},
   "source": [
    "Q 16. What is the procedure for making a normal expression in regax case insensitive?"
   ]
  },
  {
   "cell_type": "code",
   "execution_count": null,
   "id": "d85023ce",
   "metadata": {},
   "outputs": [],
   "source": [
    "#Ans:-\n",
    "we can pass re.IGNORECASE as a flag to make a normal expression case insensitive"
   ]
  },
  {
   "cell_type": "markdown",
   "id": "bbe1f64d",
   "metadata": {},
   "source": [
    "Q 17. What does the . character normally match? What does it match if re.DOTALL is passed as 2nd argument in re.compile()?"
   ]
  },
  {
   "cell_type": "code",
   "execution_count": null,
   "id": "67118e96",
   "metadata": {},
   "outputs": [],
   "source": [
    "#Ans:-\n",
    "character normally matches any character except the newline character.if re.DOTALL is passed as the second argument to re.compole(),then the dot will also match newline character "
   ]
  },
  {
   "cell_type": "markdown",
   "id": "94288bc1",
   "metadata": {},
   "source": [
    "Q 18. If numReg = re.compile(r'\\d+'), what will numRegex.sub('X', '11 drummers, 10 pipers, five rings, 4 hen') return?"
   ]
  },
  {
   "cell_type": "code",
   "execution_count": 36,
   "id": "d273ce1c",
   "metadata": {},
   "outputs": [
    {
     "data": {
      "text/plain": [
       "'X drummers, X pipers, five rings, X hen'"
      ]
     },
     "execution_count": 36,
     "metadata": {},
     "output_type": "execute_result"
    }
   ],
   "source": [
    "#Ans:-\n",
    "numReg = re.compile(r'\\d+')\n",
    "numReg.sub('X', '11 drummers, 10 pipers, five rings, 4 hen')"
   ]
  },
  {
   "cell_type": "code",
   "execution_count": null,
   "id": "56f26327",
   "metadata": {},
   "outputs": [],
   "source": [
    "it will return 'x drummers,x pipers, five rings, x hen'"
   ]
  },
  {
   "cell_type": "markdown",
   "id": "1e3a70e4",
   "metadata": {},
   "source": [
    "Q 19. What does passing re.VERBOSE as the 2nd argument to re.compile() allow to do?"
   ]
  },
  {
   "cell_type": "code",
   "execution_count": null,
   "id": "67915ef5",
   "metadata": {},
   "outputs": [],
   "source": [
    "#Ans:-\n",
    "re.VERBOSE will allow to add whitespace and comments to string passed to re.compile()\n"
   ]
  },
  {
   "cell_type": "code",
   "execution_count": null,
   "id": "8449579b",
   "metadata": {},
   "outputs": [],
   "source": [
    "# without using verbose\n",
    "regex_email = re.compile(r'^([a-z0-9_\\.-]+)@(0-9a-z\\.-]+)\\.([a-z\\.]{2,6})&',re.IGNORECASE)\n",
    "\n",
    "                         \n",
    "# using verbose\n",
    "regex_email = re.compile(r\"\"\"    #local part like username\n",
    "^(a-z0-9_\\.-]+)                    # single @sign\n",
    "@                                 # domine name like google\n",
    "([0-9a-z\\.-]+)                    # single Dot\n",
    "\\.                                # top level domain like com/in/org\n",
    "([a-z]{2,6})&\n",
    "\"\"\",re.VERBOSE | re.IGNORECASE)"
   ]
  },
  {
   "cell_type": "markdown",
   "id": "ba42d59f",
   "metadata": {},
   "source": [
    "Q 20. How would you write a regex that match a number with comma for every three digits? It must match the given following:\n",
    "    '42','1,234', '6,368,745'but not the following: '12,34,567' (which has only two digits between the commas) '1234' (which lacks commas)"
   ]
  },
  {
   "cell_type": "code",
   "execution_count": 38,
   "id": "8882970d",
   "metadata": {},
   "outputs": [
    {
     "name": "stdout",
     "output_type": "stream",
     "text": [
      "output: 42 --> <re.Match object; span=(0, 2), match='42'>\n",
      "output: 1,234 --> <re.Match object; span=(0, 5), match='1,234'>\n",
      "output: 6,368,745 --> <re.Match object; span=(0, 9), match='6,368,745'>\n",
      "output: 12,34,567 --> None\n",
      "output: 1234 --> None\n"
     ]
    }
   ],
   "source": [
    "#Ans:-\n",
    "import re \n",
    "pattern = r'^\\d{1,3}(,\\d{3})*$'\n",
    "pagex = re.compile(pattern)\n",
    "for ele in ['42','1,234','6,368,745','12,34,567','1234']:\n",
    "    print('output:',ele, '-->',pagex.search(ele))"
   ]
  },
  {
   "cell_type": "markdown",
   "id": "fb9952fe",
   "metadata": {},
   "source": [
    "Q 21. How would you write a regex that matches the full name of someone whose last name is Watanabe? You can assume that the first name that comes before it will always be one word that begins with a capital letter. The regex must match the following:\n",
    "'Haruto Watanabe'\n",
    "'Alice Watanabe'\n",
    "'RoboCop Watanabe'\n",
    "\n",
    "but not the following:\n",
    "\n",
    "'haruto Watanabe' (where the first name is not capitalized)\n",
    "'Mr. Watanabe' (where the preceding word has a nonletter character)\n",
    "'Watanabe' (which has no first name)\n",
    "'Haruto watanabe' (where Watanabe is not capitalized)"
   ]
  },
  {
   "cell_type": "code",
   "execution_count": null,
   "id": "412ea53f",
   "metadata": {},
   "outputs": [],
   "source": [
    "#Ans:- pattern = r'[A-Z]{1}[a-z]*\\swatanbe'"
   ]
  },
  {
   "cell_type": "code",
   "execution_count": 43,
   "id": "a320c763",
   "metadata": {},
   "outputs": [
    {
     "name": "stdout",
     "output_type": "stream",
     "text": [
      "output Haruto Watanabe --> <re.Match object; span=(0, 15), match='Haruto Watanabe'>\n",
      "output Alice Watanabe --> <re.Match object; span=(0, 14), match='Alice Watanabe'>\n",
      "output RoboCop Watanabe --> <re.Match object; span=(4, 16), match='Cop Watanabe'>\n",
      "output haruto Watanabe --> None\n",
      "output Mr. Watanabe --> None\n",
      "output Watanabe --> None\n",
      "output Haruto watanabe --> None\n"
     ]
    }
   ],
   "source": [
    "import re\n",
    "pattern = r'[A-Z]{1}[a-z]*\\sWatanabe'\n",
    "namex = re.compile(pattern)\n",
    "for name in ['Haruto Watanabe','Alice Watanabe','RoboCop Watanabe','haruto Watanabe','Mr. Watanabe','Watanabe','Haruto watanabe']:\n",
    "    print('output',name,'-->',namex.search(name))"
   ]
  },
  {
   "cell_type": "markdown",
   "id": "d78eb419",
   "metadata": {},
   "source": [
    "Q 22. How would you write a regex that matches a sentence where the first word is either Alice, Bob,or Carol; the second word is either eats, pets, or throws; the third word is apples, cats, or baseballs; and the sentence ends with a period? This regex should be case-insensitive. It must match the following:\n",
    "'Alice eats apples.'\n",
    "'Bob pets cats.'\n",
    "'Carol throws baseballs.'\n",
    "'Alice throws Apples.'\n",
    "'BOB EATS CATS.'\n",
    "\n",
    "but not the following:\n",
    "\n",
    "'RoboCop eats apples.'\n",
    "'ALICE THROWS FOOTBALLS.'\n",
    "'Carol eats 7 cats.'"
   ]
  },
  {
   "cell_type": "code",
   "execution_count": null,
   "id": "ab774c1c",
   "metadata": {},
   "outputs": [],
   "source": [
    "Ans: pattern = r'(Alice|Bob|Carol)\\s(eats|pets|throws)\\s(apples|cats|baseballs)\\.'"
   ]
  },
  {
   "cell_type": "code",
   "execution_count": 44,
   "id": "8d18fd97",
   "metadata": {},
   "outputs": [
    {
     "name": "stdout",
     "output_type": "stream",
     "text": [
      "Output:  Alice eats apples. -> <re.Match object; span=(0, 18), match='Alice eats apples.'>\n",
      "Output:  Bob pets cats. -> <re.Match object; span=(0, 14), match='Bob pets cats.'>\n",
      "Output:  Carol throws baseballs. -> <re.Match object; span=(0, 23), match='Carol throws baseballs.'>\n",
      "Output:  Alice throws Apples. -> <re.Match object; span=(0, 20), match='Alice throws Apples.'>\n",
      "Output:  BOB EATS CATS. -> <re.Match object; span=(0, 14), match='BOB EATS CATS.'>\n",
      "Output:  RoboCop eats apples. -> None\n",
      "Output:  ALICE THROWS FOOTBALLS. -> None\n",
      "Output:  Carol eats 7 cats. -> None\n"
     ]
    }
   ],
   "source": [
    "#Ans:-\n",
    "import re\n",
    "pattern = r'(Alice|Bob|Carol)\\s(eats|pets|throws)\\s(apples|cats|baseballs)\\.'\n",
    "casex = re.compile(pattern,re.IGNORECASE)\n",
    "for ele in ['Alice eats apples.','Bob pets cats.','Carol throws baseballs.','Alice throws Apples.','BOB EATS CATS.','RoboCop eats apples.'\n",
    ",'ALICE THROWS FOOTBALLS.','Carol eats 7 cats.']:\n",
    "    print('Output: ',ele,'->',casex.search(ele))"
   ]
  }
 ],
 "metadata": {
  "kernelspec": {
   "display_name": "Python 3 (ipykernel)",
   "language": "python",
   "name": "python3"
  },
  "language_info": {
   "codemirror_mode": {
    "name": "ipython",
    "version": 3
   },
   "file_extension": ".py",
   "mimetype": "text/x-python",
   "name": "python",
   "nbconvert_exporter": "python",
   "pygments_lexer": "ipython3",
   "version": "3.9.7"
  }
 },
 "nbformat": 4,
 "nbformat_minor": 5
}
