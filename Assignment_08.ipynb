{
 "cells": [
  {
   "cell_type": "markdown",
   "id": "2de24022",
   "metadata": {},
   "source": [
    "# Assignment_08"
   ]
  },
  {
   "cell_type": "markdown",
   "id": "bb0b77ad",
   "metadata": {},
   "source": [
    "Q 1. Is the Python Standard Library included with PyInputPlus?"
   ]
  },
  {
   "cell_type": "code",
   "execution_count": null,
   "id": "fbdda031",
   "metadata": {},
   "outputs": [],
   "source": [
    "#Ans:-\n",
    "No, PyInputPlus is not a part of python standard library it needs to be install expicitly using the command !pip install \n",
    "PyInputPlus"
   ]
  },
  {
   "cell_type": "markdown",
   "id": "340887e1",
   "metadata": {},
   "source": [
    "Q 2. Why is PyInputPlus commonly imported with import pyinputplus as pypi?"
   ]
  },
  {
   "cell_type": "code",
   "execution_count": null,
   "id": "09c6dfbb",
   "metadata": {},
   "outputs": [],
   "source": [
    "#Ans:-\n",
    "we can import the module with import pyiputplus as pyip so that you can enter a shorter name when calling the modules functions"
   ]
  },
  {
   "cell_type": "markdown",
   "id": "327dfc82",
   "metadata": {},
   "source": [
    "Q 3. How do you distinguish between inputInt() and inputFloat()?"
   ]
  },
  {
   "cell_type": "code",
   "execution_count": null,
   "id": "0fab18be",
   "metadata": {},
   "outputs": [],
   "source": [
    "#Ans:-\n",
    "inputInt():-\n",
    "inputInt() function accepts a integer value .this also takes additonal parameters min, max, greaterThan and lessThan for bounds.\n",
    "and it always return as int"
   ]
  },
  {
   "cell_type": "code",
   "execution_count": 6,
   "id": "6765627f",
   "metadata": {},
   "outputs": [
    {
     "name": "stdout",
     "output_type": "stream",
     "text": [
      "55\n",
      "55\n"
     ]
    }
   ],
   "source": [
    "import pyinputplus as pyip\n",
    "a = pyip.inputInt()\n",
    "print(a)"
   ]
  },
  {
   "cell_type": "code",
   "execution_count": null,
   "id": "846b57fa",
   "metadata": {},
   "outputs": [],
   "source": [
    "inputFloat() :-\n",
    "    inputFloat() function accepts a floating-point numeric value .this also takes additonal min, max, greaterThan and lessThan\n",
    "    parameters and always returns a float"
   ]
  },
  {
   "cell_type": "code",
   "execution_count": 7,
   "id": "6e3e8917",
   "metadata": {},
   "outputs": [
    {
     "name": "stdout",
     "output_type": "stream",
     "text": [
      "5\n",
      "5.0\n"
     ]
    }
   ],
   "source": [
    "import pyinputplus as pyip\n",
    "b = pyip.inputFloat()\n",
    "print(b)"
   ]
  },
  {
   "cell_type": "markdown",
   "id": "dd0c7553",
   "metadata": {},
   "source": [
    "Q 4. Using PyInputPlus, how do you ensure that the user enters a whole number between 0 and 99?"
   ]
  },
  {
   "cell_type": "code",
   "execution_count": null,
   "id": "19c0242a",
   "metadata": {},
   "outputs": [],
   "source": [
    "#Ans:-\n",
    "pyinputplus module provides a function called as inputInt() which only returns only integer values .inorder to restrict the\n",
    "input between 0 and 99 ,i will use parameters like min & max to ensure that user enters the value between the defined range only"
   ]
  },
  {
   "cell_type": "code",
   "execution_count": 3,
   "id": "19656892",
   "metadata": {},
   "outputs": [
    {
     "name": "stdout",
     "output_type": "stream",
     "text": [
      "Enter a number:5\n",
      "5\n"
     ]
    }
   ],
   "source": [
    "import pyinputplus as pyip\n",
    "wholenumber = pyip.inputInt(prompt='Enter a number:',min=0,max=100)\n",
    "print(wholenumber)"
   ]
  },
  {
   "cell_type": "markdown",
   "id": "bccdc5e5",
   "metadata": {},
   "source": [
    "Q 5. What is transferred to the keyword arguments allowRegexes and blockRegexes?"
   ]
  },
  {
   "cell_type": "code",
   "execution_count": null,
   "id": "394af7bc",
   "metadata": {},
   "outputs": [],
   "source": [
    "#Ans:-\n",
    "we can use allowRegexes and blockRegexes keyword arguments to take list of regular expression strings to determine what\n",
    "the pyinputplus function will reject or accept valid input"
   ]
  },
  {
   "cell_type": "markdown",
   "id": "3cf05a03",
   "metadata": {},
   "source": [
    "Q 6. If a blank input is entered three times, what does inputStr(limit=3) do?"
   ]
  },
  {
   "cell_type": "code",
   "execution_count": null,
   "id": "1860eaad",
   "metadata": {},
   "outputs": [],
   "source": [
    "#Ans:-\n",
    "the statement inputstr(limit=3) will throw two exceptions validationException and RetrylimitException .the first exception is \n",
    "thrown because blank values are not allowed by inputstr() function by default .it we want to consider blank values as valid \n",
    "inpput ,we have to blank=True.\n",
    "\n",
    "the second exception is occured because we have reached the max limit we have specified by using limit parameter.inorder to \n",
    "avoid this exception we can use default parameter to return a default value when max limit is reached"
   ]
  },
  {
   "cell_type": "markdown",
   "id": "52d783a9",
   "metadata": {},
   "source": [
    "Q 7. If blank input is entered three times, what does inputStr(limit=3, default='hello') do?"
   ]
  },
  {
   "cell_type": "code",
   "execution_count": null,
   "id": "799be0fe",
   "metadata": {},
   "outputs": [],
   "source": [
    "#Ans:-\n",
    "since the default parameter is set to hello . after blank input is entered three times instead of rising RetryLimitException\n",
    "exception .the function will return hello as response to the calling function"
   ]
  }
 ],
 "metadata": {
  "kernelspec": {
   "display_name": "Python 3 (ipykernel)",
   "language": "python",
   "name": "python3"
  },
  "language_info": {
   "codemirror_mode": {
    "name": "ipython",
    "version": 3
   },
   "file_extension": ".py",
   "mimetype": "text/x-python",
   "name": "python",
   "nbconvert_exporter": "python",
   "pygments_lexer": "ipython3",
   "version": "3.9.7"
  }
 },
 "nbformat": 4,
 "nbformat_minor": 5
}
