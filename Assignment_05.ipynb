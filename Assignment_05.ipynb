{
 "cells": [
  {
   "cell_type": "markdown",
   "id": "50268689",
   "metadata": {},
   "source": [
    "# Assignment_05"
   ]
  },
  {
   "cell_type": "markdown",
   "id": "29001f56",
   "metadata": {},
   "source": [
    "Q 1. What does an empty dictionay's code look like?"
   ]
  },
  {
   "cell_type": "code",
   "execution_count": null,
   "id": "d3cd1717",
   "metadata": {},
   "outputs": [],
   "source": [
    "Ans:-\n",
    "dic = {}  or dic =dict()\n",
    "an empty dictonary code is represented in above code"
   ]
  },
  {
   "cell_type": "markdown",
   "id": "55e6c64a",
   "metadata": {},
   "source": [
    "Q 2. What is the value of a dictionary value with the key &#39;foo&#39; and the value 42?"
   ]
  },
  {
   "cell_type": "code",
   "execution_count": null,
   "id": "13cf1682",
   "metadata": {},
   "outputs": [],
   "source": [
    "Ans:-\n",
    "dic1 = {'foo':42}"
   ]
  },
  {
   "cell_type": "markdown",
   "id": "df26e467",
   "metadata": {},
   "source": [
    "Q 3. What is the most significant distinction between a dictionary and a list?"
   ]
  },
  {
   "cell_type": "code",
   "execution_count": null,
   "id": "92af8cd0",
   "metadata": {},
   "outputs": [],
   "source": [
    "Ans:-\n",
    "dictionary is represented {}\n",
    "list is represented []\n",
    "list is mutable and dictionary is also mutable\n",
    "list is order and dictionary is also order\n",
    "list is allow duplocate items and dictionary allow the duplocate values only not key \n"
   ]
  },
  {
   "cell_type": "markdown",
   "id": "8caed965",
   "metadata": {},
   "source": [
    "Q 4. What happens if you try to access spam['foo'] if spam is {'bar':100}?"
   ]
  },
  {
   "cell_type": "code",
   "execution_count": 2,
   "id": "518ed51b",
   "metadata": {},
   "outputs": [],
   "source": [
    "Ans:-\n",
    "spam = {'bar':100}"
   ]
  },
  {
   "cell_type": "code",
   "execution_count": 1,
   "id": "06af5205",
   "metadata": {},
   "outputs": [],
   "source": [
    "spam['foo']\n",
    "it will give an keyerror because we dont have the foo key in dictionary"
   ]
  },
  {
   "cell_type": "markdown",
   "id": "51aafdc2",
   "metadata": {},
   "source": [
    "Q 5. If a dictionary is stored in spam, what is the difference between the expressions cat in spam and cat in spam.keys()?"
   ]
  },
  {
   "cell_type": "code",
   "execution_count": null,
   "id": "b745b424",
   "metadata": {},
   "outputs": [],
   "source": [
    "Ans:-\n",
    "no difference ,the operator check the key is there or not in dictionary"
   ]
  },
  {
   "cell_type": "markdown",
   "id": "0690c21c",
   "metadata": {},
   "source": [
    "Q 6.if a dictionary is stored in spam,what is the difference between the expressions 'cat' in spam and 'cat' in spam.values() ?"
   ]
  },
  {
   "cell_type": "code",
   "execution_count": null,
   "id": "bbbb4195",
   "metadata": {},
   "outputs": [],
   "source": [
    "Ans:-\n",
    "if 'cat' in spam checks wether there is a 'cat' is key or 'cat' is spam.values() in dictionary "
   ]
  },
  {
   "cell_type": "markdown",
   "id": "7a35bfb1",
   "metadata": {},
   "source": [
    "Q 7.what is a shortcut for the following code ?\n",
    "if 'color' not in spam:\n",
    "    spam['color'] ='black'"
   ]
  },
  {
   "cell_type": "code",
   "execution_count": null,
   "id": "3606d826",
   "metadata": {},
   "outputs": [],
   "source": [
    "Ans:-\n",
    "spam.setdefault('color','black')"
   ]
  },
  {
   "cell_type": "markdown",
   "id": "c9276eb0",
   "metadata": {},
   "source": [
    "Q 8.How do you 'pretty print' dictionary values using which modules and function ?"
   ]
  },
  {
   "cell_type": "code",
   "execution_count": 2,
   "id": "5c98911d",
   "metadata": {},
   "outputs": [],
   "source": [
    "dict1={'market':{'potato':45,'egg':7},'cinema':{'ticket':'70','popcorn':60}}"
   ]
  },
  {
   "cell_type": "code",
   "execution_count": 5,
   "id": "88f419cf",
   "metadata": {},
   "outputs": [
    {
     "name": "stdout",
     "output_type": "stream",
     "text": [
      "orginal dictionary :- {'market': {'potato': 45, 'egg': 7}, 'cinema': {'ticket': '70', 'popcorn': 60}}\n"
     ]
    }
   ],
   "source": [
    "Ans:-\n",
    "there are different ways to print the 'pretty print'\n",
    "\n",
    "print('orginal dictionary :-',dict1)"
   ]
  },
  {
   "cell_type": "code",
   "execution_count": 10,
   "id": "fd9c20d9",
   "metadata": {},
   "outputs": [
    {
     "name": "stdout",
     "output_type": "stream",
     "text": [
      "market\n",
      "potato : 45\n",
      "egg : 7\n",
      "cinema\n",
      "ticket : 70\n",
      "popcorn : 60\n"
     ]
    }
   ],
   "source": [
    "for sub in dict1:\n",
    "    print(sub)\n",
    "    for sub_sub in dict1[sub]:\n",
    "        print(sub_sub,':',dict1[sub][sub_sub])"
   ]
  },
  {
   "cell_type": "code",
   "execution_count": null,
   "id": "f2e884bf",
   "metadata": {},
   "outputs": [],
   "source": []
  }
 ],
 "metadata": {
  "kernelspec": {
   "display_name": "Python 3 (ipykernel)",
   "language": "python",
   "name": "python3"
  },
  "language_info": {
   "codemirror_mode": {
    "name": "ipython",
    "version": 3
   },
   "file_extension": ".py",
   "mimetype": "text/x-python",
   "name": "python",
   "nbconvert_exporter": "python",
   "pygments_lexer": "ipython3",
   "version": "3.9.7"
  }
 },
 "nbformat": 4,
 "nbformat_minor": 5
}
