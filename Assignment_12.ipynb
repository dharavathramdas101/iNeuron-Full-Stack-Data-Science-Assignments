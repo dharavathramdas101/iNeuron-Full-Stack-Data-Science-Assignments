{
 "cells": [
  {
   "cell_type": "markdown",
   "id": "c7c420b8",
   "metadata": {},
   "source": [
    "# Assignment_12"
   ]
  },
  {
   "cell_type": "markdown",
   "id": "d64bc1a8",
   "metadata": {},
   "source": [
    "Q1. In what modes should the PdfFileReader() and PdfFileWriter() File objects will be opened?"
   ]
  },
  {
   "cell_type": "code",
   "execution_count": null,
   "id": "f75e60de",
   "metadata": {},
   "outputs": [],
   "source": [
    "#Ans:-\n",
    "PdfFileReader() needs to be opened in read-binary mode by passing 'rb' as second argument to open()\n",
    "\n",
    "PdfFileWriter() needs to be opened in write-binary mode with 'wb'"
   ]
  },
  {
   "cell_type": "markdown",
   "id": "5eaba68d",
   "metadata": {},
   "source": [
    "Q2. From a PdfFileReader object, how do you get a Page object for page 5?"
   ]
  },
  {
   "cell_type": "code",
   "execution_count": null,
   "id": "8be29a62",
   "metadata": {},
   "outputs": [],
   "source": [
    "#Ans:-\n",
    "from PdfFileReader object and passing it the page number of the page you're inserted in in our case\n",
    "\n",
    "getPage(5)"
   ]
  },
  {
   "cell_type": "code",
   "execution_count": null,
   "id": "5ff7a981",
   "metadata": {},
   "outputs": [],
   "source": [
    "# Example Code:\n",
    "from PyPDF2 import PdfFileReader\n",
    "pdf_reader = PdfFileReader(file_path)\n",
    "for page in pdf_reader.getNumPages():\n",
    "    pdf_reader.getPage(page)"
   ]
  },
  {
   "cell_type": "markdown",
   "id": "561563cb",
   "metadata": {},
   "source": [
    "Q3. What PdfFileReader variable stores the number of pages in the PDF document?"
   ]
  },
  {
   "cell_type": "code",
   "execution_count": null,
   "id": "9aa6e303",
   "metadata": {},
   "outputs": [],
   "source": [
    "#Ans:-\n",
    "the total number of pages in the document is stored in the numPages attribute of PdfFileReader object"
   ]
  },
  {
   "cell_type": "code",
   "execution_count": null,
   "id": "fc6f2480",
   "metadata": {},
   "outputs": [],
   "source": [
    "#Example Code:\n",
    "from PyPDF2 import PdfFileReader\n",
    "pdf_reader = PdfFileReader(file_path)\n",
    "print(pdf_reader.getNumPages()) # Prints the no of pages in a input document"
   ]
  },
  {
   "cell_type": "markdown",
   "id": "37d5eff1",
   "metadata": {},
   "source": [
    "Q4. If a PdfFileReader object’s PDF is encrypted with the password swordfish, what must you do\n",
    "before you can obtain Page objects from it?"
   ]
  },
  {
   "cell_type": "code",
   "execution_count": null,
   "id": "038ea18b",
   "metadata": {},
   "outputs": [],
   "source": [
    "#Ans:-\n",
    "If a PdfFileReader object’s PDF is encrypted with the password swordfish and you're not aware of it. first read the Pdf using\n",
    "the PdfFileReader Class. PdfFileReader class provides a attribute called isEncrypted to check whether a pdf is encrypted or not.\n",
    "the method returns true if a pdf is encrypted and vice versa.\n",
    "if pdf is encrypted use the decrypt() method provided by PdfFileReader class first then try to read the contents/pages of the \n",
    "pdf, else PyPDF2 will raise the following error PyPDF2.utils.PdfReadError: file has not been decrypted"
   ]
  },
  {
   "cell_type": "code",
   "execution_count": 2,
   "id": "ac099bb7",
   "metadata": {},
   "outputs": [],
   "source": [
    "#Example Code:\n",
    "from PyPDF2 import PdfFileReader\n",
    "pdf_reader = PdfFileReader(file_path)\n",
    "if pdf_reader.isEncrypted: # to check whether the pdf is encrypted or not\n",
    "    pdf_reader.decrypt(\"swordfish\")\n",
    "for page in pdf_reader.pages:\n",
    "    print(page.extractText()) # to print the text data of a page from pdf"
   ]
  },
  {
   "cell_type": "markdown",
   "id": "fb461b38",
   "metadata": {},
   "source": [
    "Q5. What methods do you use to rotate a page?"
   ]
  },
  {
   "cell_type": "code",
   "execution_count": null,
   "id": "5d23cc8a",
   "metadata": {},
   "outputs": [],
   "source": [
    "#Ans:-\n",
    "PyPDF2 Package provides 2 methods to rotate a page\n",
    "1.rotateClockWise() --> for colckwise rotation\n",
    "2.rotatecounterclockwise() --> for counter clockwise rotation\n",
    "the pypdf2 package only allows you to rotae a page in increments of 90 degree"
   ]
  },
  {
   "cell_type": "markdown",
   "id": "48072a46",
   "metadata": {},
   "source": [
    "Q6. What is the difference between a Run object and a Paragraph object?"
   ]
  },
  {
   "cell_type": "code",
   "execution_count": null,
   "id": "4225dd64",
   "metadata": {},
   "outputs": [],
   "source": [
    "#Ans:-\n",
    "The structure of a document is represented by three different data types in python-Docx. At the highest level, a Document\n",
    "object represents the entire document. The Document object contains a list of Paragraph objects for the paragraphs in the \n",
    "document. (A new paragraph begins whenever the user presses ENTER or RETURN while typing in a Word document.) Each of these\n",
    "Paragraph objects contains a list of one or more Run objects.\n",
    "\n",
    "The text in a Word document is more than just a string. It has font, size, color, and other styling information associated \n",
    "with it. A style in Word is a collection of these attributes. A Run object is a contiguous run of text with the same style.\n",
    "A new Run object is needed whenever the text style changes."
   ]
  },
  {
   "cell_type": "markdown",
   "id": "04ab712c",
   "metadata": {},
   "source": [
    "Q7. How do you obtain a list of Paragraph objects for a Document object that’s stored in a variable named doc?"
   ]
  },
  {
   "cell_type": "code",
   "execution_count": null,
   "id": "14093a31",
   "metadata": {},
   "outputs": [],
   "source": [
    "# Example Program\n",
    "from docx import Document\n",
    "doc = Document(\"sample_file.docx\") # Path of the Docx file\n",
    "print(doc.paragraphs) # Prints the list of Paragraph objects for a Document\n",
    "for paragraph in doc.paragraphs:\n",
    "    print(paragraph.text) # Prints the text in the paragraph"
   ]
  },
  {
   "cell_type": "markdown",
   "id": "a89b76ca",
   "metadata": {},
   "source": [
    "Q8. What type of object has bold, underline, italic, strike, and outline variables?"
   ]
  },
  {
   "cell_type": "code",
   "execution_count": null,
   "id": "65947995",
   "metadata": {},
   "outputs": [],
   "source": [
    "#Ans:-\n",
    "Run object has bold ,underline, italic, strike and outline variables. the text in a word document is more than a string .it\n",
    "has front size ,color, and other styling information associated with it\n",
    "a style in word is a collection of these attributes A Run object is a contiguous run of text with the same style. \n",
    "A new Run object is needed whenever the text style changes."
   ]
  },
  {
   "cell_type": "markdown",
   "id": "6a8faa38",
   "metadata": {},
   "source": [
    "Q9. What is the difference between False, True, and None for the bold variable?"
   ]
  },
  {
   "cell_type": "code",
   "execution_count": null,
   "id": "8f7e9a2a",
   "metadata": {},
   "outputs": [],
   "source": [
    "#Ans:-\n",
    "\n",
    "bold = True # style set to Bold\n",
    "bold = False # style not ser to bold\n",
    "bold = None # style is not applocable"
   ]
  },
  {
   "cell_type": "markdown",
   "id": "833f7830",
   "metadata": {},
   "source": [
    "Q10. How do you create a Document object for a new Word document?"
   ]
  },
  {
   "cell_type": "code",
   "execution_count": null,
   "id": "09117f05",
   "metadata": {},
   "outputs": [],
   "source": [
    "#Ans:-\n",
    "\n",
    "# example\n",
    "from docx import Document\n",
    "document = Document()\n",
    "document.add_paragraph(\"iNeuron full stack datascience course\")\n",
    "document.save('mydocument.docx')"
   ]
  },
  {
   "cell_type": "markdown",
   "id": "076cd00f",
   "metadata": {},
   "source": [
    "Q11. How do you add a paragraph with the text 'Hello, there!' to a Document object stored in a variable named doc?"
   ]
  },
  {
   "cell_type": "code",
   "execution_count": null,
   "id": "46c798dc",
   "metadata": {},
   "outputs": [],
   "source": [
    "#Ans:-\n",
    "# Example Program\n",
    "from docx import Document\n",
    "doc = Document()\n",
    "doc.add_paragraph('Hello, there!')\n",
    "doc.save('hello.docx')"
   ]
  },
  {
   "cell_type": "markdown",
   "id": "11cb186c",
   "metadata": {},
   "source": [
    "Q12. What integers represent the levels of headings available in Word documents?"
   ]
  },
  {
   "cell_type": "code",
   "execution_count": null,
   "id": "58ec8175",
   "metadata": {},
   "outputs": [],
   "source": [
    "#Ans:-\n",
    "The levels for a heading in a word document can be specified by using the level attribute inside the add_heading method. \n",
    "There are a total of 5 levels statring for 0 t0 4. where level 0 makes a headline with the horizontal line below the text,\n",
    "whereas the heading level 1 is the main heading. Similarly, the other headings are sub-heading with their's font-sizes in \n",
    "decreasing order."
   ]
  }
 ],
 "metadata": {
  "kernelspec": {
   "display_name": "Python 3 (ipykernel)",
   "language": "python",
   "name": "python3"
  },
  "language_info": {
   "codemirror_mode": {
    "name": "ipython",
    "version": 3
   },
   "file_extension": ".py",
   "mimetype": "text/x-python",
   "name": "python",
   "nbconvert_exporter": "python",
   "pygments_lexer": "ipython3",
   "version": "3.10.2"
  }
 },
 "nbformat": 4,
 "nbformat_minor": 5
}
