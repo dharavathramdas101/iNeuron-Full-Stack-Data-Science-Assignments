{
 "cells": [
  {
   "cell_type": "markdown",
   "id": "b94c7dfc",
   "metadata": {},
   "source": [
    "# Assignment 6 Solutions"
   ]
  },
  {
   "cell_type": "markdown",
   "id": "6f91d0e3",
   "metadata": {},
   "source": [
    "Q 1.What are Escape characters ? and how do you use them ?"
   ]
  },
  {
   "cell_type": "code",
   "execution_count": null,
   "id": "95243215",
   "metadata": {},
   "outputs": [],
   "source": [
    "To insert characters that are illegal in a string, use an escape character.\n",
    "\n",
    "An escape character is a backslash \\ followed by the character you want to insert.\n",
    "\n",
    "example: \\t, \\n ,\\b"
   ]
  },
  {
   "cell_type": "markdown",
   "id": "ce193fc1",
   "metadata": {},
   "source": [
    "Q 2.What do the escape characters n and t stand for ?"
   ]
  },
  {
   "cell_type": "code",
   "execution_count": null,
   "id": "8091ae98",
   "metadata": {},
   "outputs": [],
   "source": [
    "\\n is newline, \\t is a tab space"
   ]
  },
  {
   "cell_type": "code",
   "execution_count": 2,
   "id": "b93fa8b9",
   "metadata": {},
   "outputs": [
    {
     "name": "stdout",
     "output_type": "stream",
     "text": [
      "hello\n",
      "wellcome to python\n"
     ]
    }
   ],
   "source": [
    "print('hello\\nwellcome to python')"
   ]
  },
  {
   "cell_type": "code",
   "execution_count": 4,
   "id": "ad083e60",
   "metadata": {},
   "outputs": [
    {
     "name": "stdout",
     "output_type": "stream",
     "text": [
      "wellcome\t to my\t world\n"
     ]
    }
   ],
   "source": [
    "print('wellcome\\t to my\\t world')"
   ]
  },
  {
   "cell_type": "markdown",
   "id": "4e87d076",
   "metadata": {},
   "source": [
    "Q 3.What is the way to include backslash character in a string?"
   ]
  },
  {
   "cell_type": "code",
   "execution_count": null,
   "id": "c104818d",
   "metadata": {},
   "outputs": [],
   "source": [
    "escape character will represent the \\\\ blackslash character in astring \n",
    "examples:-"
   ]
  },
  {
   "cell_type": "code",
   "execution_count": 31,
   "id": "0001ae91",
   "metadata": {},
   "outputs": [
    {
     "data": {
      "text/plain": [
       "\"Howl's Moving Castle\""
      ]
     },
     "execution_count": 31,
     "metadata": {},
     "output_type": "execute_result"
    }
   ],
   "source": [
    "'Howl\\'s Moving Castle'"
   ]
  },
  {
   "cell_type": "code",
   "execution_count": 36,
   "id": "a673afbd",
   "metadata": {},
   "outputs": [
    {
     "name": "stdout",
     "output_type": "stream",
     "text": [
      "Howl\n",
      " s Moving Castle\n"
     ]
    }
   ],
   "source": [
    "print('Howl\\n s Moving Castle')"
   ]
  },
  {
   "cell_type": "markdown",
   "id": "0903b4cd",
   "metadata": {},
   "source": [
    "Q 4.The string \"Howl's Moving Castle\" is a correct value. Why isn't the single quote character in the word Howl's not escaped a problem ?"
   ]
  },
  {
   "cell_type": "code",
   "execution_count": 29,
   "id": "a2932f96",
   "metadata": {},
   "outputs": [
    {
     "data": {
      "text/plain": [
       "\"Howl's Moving Castle\""
      ]
     },
     "execution_count": 29,
     "metadata": {},
     "output_type": "execute_result"
    }
   ],
   "source": [
    "\"Howl's Moving Castle\""
   ]
  },
  {
   "cell_type": "code",
   "execution_count": 30,
   "id": "2862e726",
   "metadata": {},
   "outputs": [
    {
     "data": {
      "text/plain": [
       "\"Howl's Moving Castle\""
      ]
     },
     "execution_count": 30,
     "metadata": {},
     "output_type": "execute_result"
    }
   ],
   "source": [
    "'Howl\\'s Moving Castle'  # we use backslash to escape problem"
   ]
  },
  {
   "cell_type": "markdown",
   "id": "652c3465",
   "metadata": {},
   "source": [
    "Q 5. How do you write a string of newlines if you don't want to use the n character?"
   ]
  },
  {
   "cell_type": "code",
   "execution_count": 24,
   "id": "43ce9805",
   "metadata": {},
   "outputs": [
    {
     "data": {
      "text/plain": [
       "'hellow\\nwell come to\\niNeuron'"
      ]
     },
     "execution_count": 24,
     "metadata": {},
     "output_type": "execute_result"
    }
   ],
   "source": [
    "\"\"\"hellow\n",
    "well come to\n",
    "iNeuron\"\"\""
   ]
  },
  {
   "cell_type": "markdown",
   "id": "65bf0014",
   "metadata": {},
   "source": [
    "Q 6. What are the values of the given expression\n",
    "'Hello, world'[1]\n",
    "'Hello, world'[0:5]\n",
    "'Hello, world'[:5]\n",
    "'Hello, world'[3:]"
   ]
  },
  {
   "cell_type": "code",
   "execution_count": 19,
   "id": "89b773c3",
   "metadata": {},
   "outputs": [
    {
     "name": "stdout",
     "output_type": "stream",
     "text": [
      "e\n",
      "Hello\n",
      "Hello\n",
      "lo, world\n"
     ]
    }
   ],
   "source": [
    "print('Hello, world'[1])     # we are using slicing to extract some value in string based on its index\n",
    "print('Hello, world'[0:5])\n",
    "print('Hello, world'[:5])\n",
    "print('Hello, world'[3:])"
   ]
  },
  {
   "cell_type": "markdown",
   "id": "6eea08e6",
   "metadata": {},
   "source": [
    "Q 7. What are the values of the following expressions?\n",
    "'Hello'.upper()\n",
    "'hello'.upper().isupper()\n",
    "'hello'.upper().lower()"
   ]
  },
  {
   "cell_type": "code",
   "execution_count": 15,
   "id": "0198d69f",
   "metadata": {},
   "outputs": [
    {
     "name": "stdout",
     "output_type": "stream",
     "text": [
      "HELLO\n",
      "True\n",
      "False\n"
     ]
    }
   ],
   "source": [
    "print('Hello'.upper())  # it is going to convert into uppercase\n",
    "print(\"Hello\".upper().isupper())  # isupper() is going to check the string is upper it give True otherwise False\n",
    "print(\"Hello\".upper().islower())  # islower() is used to check the string is lower it give True otherwise False"
   ]
  },
  {
   "cell_type": "markdown",
   "id": "203745e2",
   "metadata": {},
   "source": [
    "Q 8. What are the values of the following expressions?\n",
    "'Remember, remember, the fifth of July'.split()\n",
    "'-'.join('There can only one.'.split())"
   ]
  },
  {
   "cell_type": "code",
   "execution_count": 11,
   "id": "e994ccdf",
   "metadata": {},
   "outputs": [
    {
     "data": {
      "text/plain": [
       "['Remember,', 'remember,', 'the', 'fith', 'ofjuly']"
      ]
     },
     "execution_count": 11,
     "metadata": {},
     "output_type": "execute_result"
    }
   ],
   "source": [
    "\"\"\"split is used ot split the string into list where the place is there it is seperate with ,\"\"\"\n",
    "'Remember, remember, the fith of july'.split()"
   ]
  },
  {
   "cell_type": "code",
   "execution_count": 38,
   "id": "911b5dbc",
   "metadata": {},
   "outputs": [
    {
     "data": {
      "text/plain": [
       "'There-can-only-one.'"
      ]
     },
     "execution_count": 38,
     "metadata": {},
     "output_type": "execute_result"
    }
   ],
   "source": [
    "'-'.join('There can only one.'.split())  # it is split the string where the space is there and again join the '-' with space and convert into string"
   ]
  },
  {
   "cell_type": "markdown",
   "id": "dac82a78",
   "metadata": {},
   "source": [
    "Q 9. What are the methods for right-justifying, left-justifying, and centering a string?"
   ]
  },
  {
   "cell_type": "code",
   "execution_count": 7,
   "id": "c579e726",
   "metadata": {},
   "outputs": [
    {
     "name": "stdout",
     "output_type": "stream",
     "text": [
      "*************ineuron\n",
      "ineuron*************\n",
      "******ineuron*******\n"
     ]
    }
   ],
   "source": [
    "str11 = \"ineuron\"\n",
    "\"\"\"right-justifying is used to set string into leftside other side we can put the lenght and other character \"\"\"\n",
    "print(str11.rjust(20,\"*\"))\n",
    "print(str11.ljust(20,\"*\"))\n",
    "print(str11.center(20,\"*\"))"
   ]
  },
  {
   "cell_type": "markdown",
   "id": "b5bd6a70",
   "metadata": {},
   "source": [
    "Q 10. What is the best way to remove whitespace characters from the start or end?"
   ]
  },
  {
   "cell_type": "code",
   "execution_count": 2,
   "id": "a8f916e0",
   "metadata": {},
   "outputs": [
    {
     "name": "stdout",
     "output_type": "stream",
     "text": [
      "enter the string with white space starting and ending : ineuron ineuron \n"
     ]
    }
   ],
   "source": [
    "string1 = input(\"enter the string with white space starting and ending :\")\n",
    "str_wr = string1.strip()"
   ]
  },
  {
   "cell_type": "code",
   "execution_count": 41,
   "id": "e885e3f3",
   "metadata": {},
   "outputs": [
    {
     "data": {
      "text/plain": [
       "'ineuron'"
      ]
     },
     "execution_count": 41,
     "metadata": {},
     "output_type": "execute_result"
    }
   ],
   "source": [
    "str33 =\" ineuron \"\n",
    "str33.strip()"
   ]
  },
  {
   "cell_type": "code",
   "execution_count": null,
   "id": "c93d624c",
   "metadata": {},
   "outputs": [],
   "source": []
  }
 ],
 "metadata": {
  "kernelspec": {
   "display_name": "Python 3 (ipykernel)",
   "language": "python",
   "name": "python3"
  },
  "language_info": {
   "codemirror_mode": {
    "name": "ipython",
    "version": 3
   },
   "file_extension": ".py",
   "mimetype": "text/x-python",
   "name": "python",
   "nbconvert_exporter": "python",
   "pygments_lexer": "ipython3",
   "version": "3.9.7"
  }
 },
 "nbformat": 4,
 "nbformat_minor": 5
}
