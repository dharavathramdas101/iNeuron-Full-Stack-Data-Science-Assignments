{
 "cells": [
  {
   "cell_type": "markdown",
   "id": "c76a0716",
   "metadata": {},
   "source": [
    "# Assignment_1"
   ]
  },
  {
   "cell_type": "markdown",
   "id": "14bc9efb",
   "metadata": {},
   "source": [
    "Q 1. In the below elements which of them are values or an expression? eg:- values can be\n",
    "integer or string and expressions will be mathematical operators.\n",
    "*\n",
    "'hello'\n",
    "-87.8\n",
    "-\n",
    "/\n",
    "+\n",
    "6\n"
   ]
  },
  {
   "cell_type": "markdown",
   "id": "218e0547",
   "metadata": {},
   "source": [
    "An:- it contains 3 values and 4 expressions\n",
    "    values : 'hello', -87.8, 6\n",
    "    expressions : * , - , / , +"
   ]
  },
  {
   "cell_type": "markdown",
   "id": "b4939bd0",
   "metadata": {},
   "source": [
    "Q 2. What is the difference between string and variable?\n",
    "\n"
   ]
  },
  {
   "cell_type": "code",
   "execution_count": null,
   "id": "f86f8542",
   "metadata": {},
   "outputs": [],
   "source": [
    "An:- String : a combination of sequence of characters which are present inside a \" \" or single ' ' (quote) is called string\n",
    "    example = 'iNeuron'\n",
    "    Variable : it is a temperory name given to a memory location ,it is a container to store data\n",
    "    example : name =\"Das\""
   ]
  },
  {
   "cell_type": "markdown",
   "id": "3979b144",
   "metadata": {},
   "source": [
    "Q 3. Describe three different data types?"
   ]
  },
  {
   "cell_type": "markdown",
   "id": "25d3e73a",
   "metadata": {},
   "source": [
    "An:- different data types are int ,float, complex\n",
    "     int : all the numbers come from -infinite to +infinite  like  -1 ,0,1\n",
    "    float : all the numbers the decimal value come from -infinite to +infinite like 1.0,2.0\n",
    "    complex : data is contain real part and imaginary part is known as complex, like : 1 +2j\n",
    "    "
   ]
  },
  {
   "cell_type": "code",
   "execution_count": 16,
   "id": "32b76c1a",
   "metadata": {},
   "outputs": [
    {
     "name": "stdout",
     "output_type": "stream",
     "text": [
      "1 <class 'int'>\n",
      "11.1 <class 'float'>\n",
      "(2+2j) <class 'complex'>\n"
     ]
    }
   ],
   "source": [
    "# example\n",
    "integer = 1\n",
    "print(integer,type(integer))\n",
    "float1= 11.1\n",
    "print(float1,type(float1))\n",
    "complex1 = 2+2j\n",
    "print(complex1,type(complex1))"
   ]
  },
  {
   "cell_type": "markdown",
   "id": "3bfad03b",
   "metadata": {},
   "source": [
    "Q 4. What is an expression made up of? What do all expressions do?"
   ]
  },
  {
   "cell_type": "code",
   "execution_count": null,
   "id": "4bccf946",
   "metadata": {},
   "outputs": [],
   "source": [
    "An:- Expression is combination of operators(Arthematic, logical, comparision) ,values,variables \n",
    "    it will perform some mathematical operation\n",
    "    "
   ]
  },
  {
   "cell_type": "code",
   "execution_count": 17,
   "id": "6073a183",
   "metadata": {},
   "outputs": [
    {
     "name": "stdout",
     "output_type": "stream",
     "text": [
      "21\n"
     ]
    }
   ],
   "source": [
    "print(10+11)"
   ]
  },
  {
   "cell_type": "markdown",
   "id": "96409070",
   "metadata": {},
   "source": [
    "Q 5. This assignment statements, like spam = 10. What is the difference between an expression and a statement?"
   ]
  },
  {
   "cell_type": "code",
   "execution_count": null,
   "id": "8cefdf97",
   "metadata": {},
   "outputs": [],
   "source": [
    "An :- we are assigning a value 10 into like spam variable is called assignment statements\n",
    "    expression :- is combination of operators, value,variable  example 20+20= 40\n",
    "    statement :- any line of code which python can execute(run) is called a statement "
   ]
  },
  {
   "cell_type": "markdown",
   "id": "fdb4d1fd",
   "metadata": {},
   "source": [
    "Q 6. After running the following code, what does the variable bacon contain?   bacon = 22     bacon + 1"
   ]
  },
  {
   "cell_type": "code",
   "execution_count": 15,
   "id": "74ce305d",
   "metadata": {},
   "outputs": [
    {
     "data": {
      "text/plain": [
       "23"
      ]
     },
     "execution_count": 15,
     "metadata": {},
     "output_type": "execute_result"
    }
   ],
   "source": [
    "A :- we are assigning a value 22 into variablre bacon, it stored int value and we are concatenated the bacon int value and int 1 \n",
    "\n",
    "bacon = 22\n",
    "bacon + 1"
   ]
  },
  {
   "cell_type": "markdown",
   "id": "91087325",
   "metadata": {},
   "source": [
    "Q 7. What should the values of the following two terms be?   'spam' + 'spamspam'    'spam'* 3"
   ]
  },
  {
   "cell_type": "code",
   "execution_count": 11,
   "id": "f8f0122c",
   "metadata": {},
   "outputs": [
    {
     "data": {
      "text/plain": [
       "'spamspamspam'"
      ]
     },
     "execution_count": 11,
     "metadata": {},
     "output_type": "execute_result"
    }
   ],
   "source": [
    " it will concatenate the to strings \n",
    "s = 'spam'+'spamspam'\n",
    "s"
   ]
  },
  {
   "cell_type": "code",
   "execution_count": 13,
   "id": "4a4d769a",
   "metadata": {},
   "outputs": [
    {
     "data": {
      "text/plain": [
       "'spamspamspam'"
      ]
     },
     "execution_count": 13,
     "metadata": {},
     "output_type": "execute_result"
    }
   ],
   "source": [
    " it is multiplication and return spam 3 times\n",
    "'spam'* 3"
   ]
  },
  {
   "cell_type": "markdown",
   "id": "f9af4060",
   "metadata": {},
   "source": [
    "Q 8. Why is eggs a valid variable name while 100 is invalid?"
   ]
  },
  {
   "cell_type": "code",
   "execution_count": null,
   "id": "72b2612d",
   "metadata": {},
   "outputs": [],
   "source": [
    "An :- eggs is valied variable name ,100 is not variable name\n",
    "    because variablr name shoud not start with integer ,variable name start with alphabets ,_ we follow python syntax\n",
    "    100 variable give syntax error"
   ]
  },
  {
   "cell_type": "code",
   "execution_count": 19,
   "id": "9fd0d5f9",
   "metadata": {},
   "outputs": [],
   "source": [
    "eggs = 30"
   ]
  },
  {
   "cell_type": "code",
   "execution_count": 18,
   "id": "7242def7",
   "metadata": {},
   "outputs": [],
   "source": [
    "100 = \"ram\" #  give error"
   ]
  },
  {
   "cell_type": "markdown",
   "id": "87cfd999",
   "metadata": {},
   "source": [
    "Q 9. What three functions can be used to get the integer, floating-point number, or string version of a value?"
   ]
  },
  {
   "cell_type": "code",
   "execution_count": null,
   "id": "f5e9e126",
   "metadata": {},
   "outputs": [],
   "source": [
    "An :- this three functions are the typecasting used to convert one data type to another data type"
   ]
  },
  {
   "cell_type": "code",
   "execution_count": 8,
   "id": "ea1e848d",
   "metadata": {},
   "outputs": [
    {
     "name": "stdout",
     "output_type": "stream",
     "text": [
      "<class 'float'> <class 'int'>\n",
      "<class 'int'> <class 'float'>\n",
      "<class 'int'> <class 'str'>\n"
     ]
    }
   ],
   "source": [
    "a = 20.5\n",
    "a1 = int(a)\n",
    "print(type(a),type(a1))\n",
    "b = 22\n",
    "b1 = float(b)\n",
    "print(type(b),type(b1))\n",
    "c = 25\n",
    "c1 = str(c)\n",
    "print(type(c),type(c1))"
   ]
  },
  {
   "cell_type": "markdown",
   "id": "5c847018",
   "metadata": {},
   "source": [
    "Q 10. Why does this expression cause an error? How can you fix it?\n",
    "'I have eaten'+ 99 + 'burritos'"
   ]
  },
  {
   "cell_type": "code",
   "execution_count": null,
   "id": "abb840a0",
   "metadata": {},
   "outputs": [],
   "source": [
    "An :- string+int+string will give error because we canot concatenate string+ int +string only concatenate strings or integers only\n",
    "we can fix error by using string type casting to convert int to string\n",
    " 'i have eaten'+str(99)+ 'burritos'"
   ]
  },
  {
   "cell_type": "code",
   "execution_count": 1,
   "id": "774b10b9",
   "metadata": {},
   "outputs": [
    {
     "data": {
      "text/plain": [
       "'i have eaten99burritos'"
      ]
     },
     "execution_count": 1,
     "metadata": {},
     "output_type": "execute_result"
    }
   ],
   "source": [
    "'i have eaten'+str(99)+ 'burritos'"
   ]
  },
  {
   "cell_type": "code",
   "execution_count": null,
   "id": "fec7bb00",
   "metadata": {},
   "outputs": [],
   "source": [
    "Concatenation"
   ]
  }
 ],
 "metadata": {
  "kernelspec": {
   "display_name": "Python 3 (ipykernel)",
   "language": "python",
   "name": "python3"
  },
  "language_info": {
   "codemirror_mode": {
    "name": "ipython",
    "version": 3
   },
   "file_extension": ".py",
   "mimetype": "text/x-python",
   "name": "python",
   "nbconvert_exporter": "python",
   "pygments_lexer": "ipython3",
   "version": "3.9.7"
  }
 },
 "nbformat": 4,
 "nbformat_minor": 5
}
